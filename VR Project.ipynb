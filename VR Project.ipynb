{
 "cells": [
  {
   "cell_type": "code",
   "execution_count": 1,
   "id": "e3f3603f",
   "metadata": {},
   "outputs": [],
   "source": [
    "# Importing needed packages\n",
    "\n",
    "import pandas as pd\n",
    "import numpy as np\n",
    "import scipy\n",
    "from itertools import islice\n",
    "from collections import Counter\n",
    "import matplotlib.pyplot as plt\n",
    "import csv\n",
    "import math\n",
    "import warnings\n",
    "from sklearn.linear_model import LinearRegression"
   ]
  },
  {
   "cell_type": "code",
   "execution_count": 2,
   "id": "2e665947",
   "metadata": {},
   "outputs": [],
   "source": [
    "# reading the data into vr_data\n",
    "vr_data = pd.read_csv('vrnewdata.csv')"
   ]
  },
  {
   "cell_type": "code",
   "execution_count": 4,
   "id": "af063c2b",
   "metadata": {},
   "outputs": [
    {
     "data": {
      "text/plain": [
       "['Hazard 3 - Would you like to list another hazard?',\n",
       " '{\"ImportId\":\"3_QID66\"}',\n",
       " nan,\n",
       " 'Yes',\n",
       " 'No']"
      ]
     },
     "execution_count": 4,
     "metadata": {},
     "output_type": "execute_result"
    }
   ],
   "source": [
    "# Checking values in Loop Columns - Yes or No\n",
    "unique_vals_hazard1 = vr_data['3_Loop'].unique().tolist()\n",
    "unique_vals_hazard1"
   ]
  },
  {
   "cell_type": "code",
   "execution_count": 5,
   "id": "c9739a24",
   "metadata": {},
   "outputs": [],
   "source": [
    "# Counting the number of hazards identified for the first picture shown for each participant\n",
    "\n",
    "vr_data['pic1_yes'] = 0\n",
    "\n",
    "for index, row in vr_data.iterrows():\n",
    "    \n",
    "    if row.iloc[37] == 'Yes':\n",
    "        vr_data.at[index, 'pic1_yes'] += 1\n",
    "    \n",
    "    if row.iloc[40] == 'Yes':\n",
    "        vr_data.at[index, 'pic1_yes'] += 1\n",
    "    \n",
    "    if row.iloc[43] == 'Yes':\n",
    "        vr_data.at[index, 'pic1_yes'] += 1\n",
    "        \n",
    "    if row.iloc[46] == 'Yes':\n",
    "        vr_data.at[index, 'pic1_yes'] += 1\n",
    "    \n",
    "    if row.iloc[49] == 'Yes':\n",
    "        vr_data.at[index, 'pic1_yes'] += 1\n",
    "        \n",
    "    if row.iloc[52] == 'Yes':\n",
    "        vr_data.at[index, 'pic1_yes'] += 1\n",
    "    \n",
    "    if row.iloc[55] == 'Yes':\n",
    "        vr_data.at[index, 'pic1_yes'] += 1\n",
    "        \n",
    "    if row.iloc[58] == 'Yes':\n",
    "        vr_data.at[index, 'pic1_yes'] += 1\n",
    "    \n",
    "    \n",
    "\n",
    "\n",
    "\n",
    "\n",
    "\n",
    "\n"
   ]
  },
  {
   "cell_type": "code",
   "execution_count": 7,
   "id": "ca230492",
   "metadata": {},
   "outputs": [],
   "source": [
    "# Counting the number of hazards identified for the second picture shown for each participant\n",
    "\n",
    "vr_data['pic2_yes'] = 0\n",
    "\n",
    "for index, row in vr_data.iterrows():\n",
    "    \n",
    "    if row.iloc[65] == 'Yes':\n",
    "        vr_data.at[index, 'pic2_yes'] += 1\n",
    "    \n",
    "    if row.iloc[68] == 'Yes':\n",
    "        vr_data.at[index, 'pic2_yes'] += 1\n",
    "    \n",
    "    if row.iloc[71] == 'Yes':\n",
    "        vr_data.at[index, 'pic2_yes'] += 1\n",
    "        \n",
    "    if row.iloc[74] == 'Yes':\n",
    "        vr_data.at[index, 'pic2_yes'] += 1\n",
    "    \n",
    "    if row.iloc[77] == 'Yes':\n",
    "        vr_data.at[index, 'pic2_yes'] += 1\n",
    "        \n",
    "    if row.iloc[80] == 'Yes':\n",
    "        vr_data.at[index, 'pic2_yes'] += 1\n",
    "    \n",
    "    if row.iloc[83] == 'Yes':\n",
    "        vr_data.at[index, 'pic2_yes'] += 1\n",
    "        \n",
    "    if row.iloc[86] == 'Yes':\n",
    "        vr_data.at[index, 'pic2_yes'] += 1\n",
    "        \n",
    "    if row.iloc[89] == 'Yes':\n",
    "        vr_data.at[index, 'pic2_yes'] += 1\n",
    "        \n",
    "    if row.iloc[92] == 'Yes':\n",
    "        vr_data.at[index, 'pic2_yes'] += 1\n",
    "        \n",
    "    if row.iloc[95] == 'Yes':\n",
    "        vr_data.at[index, 'pic2_yes'] += 1\n",
    "    \n",
    "    if row.iloc[98] == 'Yes':\n",
    "        vr_data.at[index, 'pic2_yes'] += 1\n",
    "        \n",
    "    if row.iloc[101] == 'Yes':\n",
    "        vr_data.at[index, 'pic2_yes'] += 1\n",
    "        \n",
    "    if row.iloc[104] == 'Yes':\n",
    "        vr_data.at[index, 'pic2_yes'] += 1\n",
    "        "
   ]
  },
  {
   "cell_type": "code",
   "execution_count": 9,
   "id": "38e27873",
   "metadata": {},
   "outputs": [],
   "source": [
    "# Counting the number of hazards identified for the third picture shown for each participant\n",
    "\n",
    "vr_data['pic3_yes'] = 0\n",
    "\n",
    "for index, row in vr_data.iterrows():\n",
    "    \n",
    "    if row.iloc[143] == 'Yes':\n",
    "        vr_data.at[index, 'pic3_yes'] += 1\n",
    "    \n",
    "    if row.iloc[146] == 'Yes':\n",
    "        vr_data.at[index, 'pic3_yes'] += 1\n",
    "    \n",
    "    if row.iloc[149] == 'Yes':\n",
    "        vr_data.at[index, 'pic3_yes'] += 1\n",
    "        \n",
    "    if row.iloc[152] == 'Yes':\n",
    "        vr_data.at[index, 'pic3_yes'] += 1\n",
    "    \n",
    "    if row.iloc[155] == 'Yes':\n",
    "        vr_data.at[index, 'pic3_yes'] += 1\n",
    "        \n",
    "    if row.iloc[158] == 'Yes':\n",
    "        vr_data.at[index, 'pic3_yes'] += 1\n",
    "    \n",
    "    if row.iloc[161] == 'Yes':\n",
    "        vr_data.at[index, 'pic3_yes'] += 1\n",
    "        \n",
    "    if row.iloc[164] == 'Yes':\n",
    "        vr_data.at[index, 'pic3_yes'] += 1\n",
    "        \n",
    "    if row.iloc[167] == 'Yes':\n",
    "        vr_data.at[index, 'pic3_yes'] += 1\n",
    "        \n",
    "    if row.iloc[170] == 'Yes':\n",
    "        vr_data.at[index, 'pic3_yes'] += 1\n",
    "        \n",
    "    if row.iloc[173] == 'Yes':\n",
    "        vr_data.at[index, 'pic3_yes'] += 1\n",
    "    \n",
    "    if row.iloc[176] == 'Yes':\n",
    "        vr_data.at[index, 'pic3_yes'] += 1\n",
    "        \n",
    "    if row.iloc[179] == 'Yes':\n",
    "        vr_data.at[index, 'pic3_yes'] += 1\n",
    "        \n",
    "    if row.iloc[182] == 'Yes':\n",
    "        vr_data.at[index, 'pic3_yes'] += 1\n",
    "        \n",
    "    if row.iloc[185] == 'Yes':\n",
    "        vr_data.at[index, 'pic3_yes'] += 1\n",
    "        \n",
    "    if row.iloc[188] == 'Yes':\n",
    "        vr_data.at[index, 'pic3_yes'] += 1\n",
    "        \n",
    "    if row.iloc[191] == 'Yes':\n",
    "        vr_data.at[index, 'pic3_yes'] += 1\n",
    "    "
   ]
  },
  {
   "cell_type": "code",
   "execution_count": 11,
   "id": "c6945de2",
   "metadata": {},
   "outputs": [],
   "source": [
    "# Exporting updated dataframe with counts of hazards for each participant\n",
    "\n",
    "vr_data.to_csv('vrdata_1', index = False)"
   ]
  },
  {
   "cell_type": "code",
   "execution_count": 12,
   "id": "7c9f9e45",
   "metadata": {},
   "outputs": [],
   "source": [
    "# Reading in the new dataframe with one added to each participants count if they originally identified a hazard\n",
    "\n",
    "vr_data2 = pd.read_csv('vrdata_2.csv')"
   ]
  },
  {
   "cell_type": "code",
   "execution_count": 14,
   "id": "4a785337",
   "metadata": {},
   "outputs": [],
   "source": [
    "# Rearranging the counts so every column is in reference to one picture\n",
    "\n",
    "split_row = 78\n",
    "\n",
    "vr_dsa = vr_data2[:split_row]\n",
    "vr_dsb = vr_data2[split_row:]"
   ]
  },
  {
   "cell_type": "code",
   "execution_count": 17,
   "id": "6f856373",
   "metadata": {},
   "outputs": [],
   "source": [
    "# renaming column\n",
    "warnings.filterwarnings('ignore')\n",
    "vr_dsb['tem1'] = vr_dsb['pic1_yes']\n"
   ]
  },
  {
   "cell_type": "code",
   "execution_count": 18,
   "id": "c9e67740",
   "metadata": {},
   "outputs": [],
   "source": [
    "# renaming column\n",
    "warnings.filterwarnings('ignore')\n",
    "vr_dsb['pic1_yes'] = vr_dsb['pic3_yes']"
   ]
  },
  {
   "cell_type": "code",
   "execution_count": 19,
   "id": "56b8e0ec",
   "metadata": {},
   "outputs": [],
   "source": [
    "# renaming column\n",
    "warnings.filterwarnings('ignore')\n",
    "vr_dsb['tem2'] = vr_dsb['pic2_yes']"
   ]
  },
  {
   "cell_type": "code",
   "execution_count": 20,
   "id": "f6f7d75b",
   "metadata": {},
   "outputs": [],
   "source": [
    "# renaming column\n",
    "warnings.filterwarnings('ignore')\n",
    "vr_dsb['pic2_yes'] = vr_dsb['tem1']"
   ]
  },
  {
   "cell_type": "code",
   "execution_count": 21,
   "id": "5fc455cc",
   "metadata": {},
   "outputs": [],
   "source": [
    "# renaming column\n",
    "warnings.filterwarnings('ignore')\n",
    "vr_dsb['pic3_yes'] = vr_dsb['tem2']"
   ]
  },
  {
   "cell_type": "code",
   "execution_count": 23,
   "id": "122e4be0",
   "metadata": {},
   "outputs": [],
   "source": [
    "# Putting the dataframe into one\n",
    "vr_df1 = pd.concat([vr_dsa, vr_dsb])"
   ]
  },
  {
   "cell_type": "code",
   "execution_count": 25,
   "id": "63ed267e",
   "metadata": {},
   "outputs": [],
   "source": [
    "# Cleaning the dataframe\n",
    "\n",
    "columns_to_drop = ['tem1', 'tem2']\n",
    "vr_data2c = vr_df1.drop(columns=columns_to_drop)"
   ]
  },
  {
   "cell_type": "code",
   "execution_count": 27,
   "id": "6f3408ae",
   "metadata": {},
   "outputs": [],
   "source": [
    "# creating a copy\n",
    "vr_data3 = vr_data2c.copy()"
   ]
  },
  {
   "cell_type": "code",
   "execution_count": 28,
   "id": "1a06b76a",
   "metadata": {},
   "outputs": [],
   "source": [
    "# Creating the hazard percentage for picture number one\n",
    "\n",
    "vr_data3['perc_ident1'] = vr_data3['pic1_yes'] / 16"
   ]
  },
  {
   "cell_type": "code",
   "execution_count": 29,
   "id": "71b659d5",
   "metadata": {},
   "outputs": [],
   "source": [
    "# Creating the hazard percentages for picture number two\n",
    "\n",
    "vr_data3['perc_ident2'] = vr_data3['pic2_yes'] / 23"
   ]
  },
  {
   "cell_type": "code",
   "execution_count": 30,
   "id": "79857491",
   "metadata": {},
   "outputs": [],
   "source": [
    "# Counting the hazard percentages for picture number three\n",
    "\n",
    "vr_data3['perc_ident3'] = vr_data3['pic3_yes'] / 16"
   ]
  },
  {
   "cell_type": "code",
   "execution_count": 32,
   "id": "94934e6f",
   "metadata": {},
   "outputs": [],
   "source": [
    "cols_to_drop = ['pic1_yes', 'pic2_yes', 'pic3_yes']\n",
    "vr_data3 = vr_data3.drop(cols_to_drop, axis=1)"
   ]
  },
  {
   "cell_type": "code",
   "execution_count": 33,
   "id": "ab58e344",
   "metadata": {},
   "outputs": [],
   "source": [
    "vr_data3.to_csv('vrdata_3c', index = False)"
   ]
  }
 ],
 "metadata": {
  "kernelspec": {
   "display_name": "Python 3",
   "language": "python",
   "name": "python3"
  },
  "language_info": {
   "codemirror_mode": {
    "name": "ipython",
    "version": 3
   },
   "file_extension": ".py",
   "mimetype": "text/x-python",
   "name": "python",
   "nbconvert_exporter": "python",
   "pygments_lexer": "ipython3",
   "version": "3.8.8"
  }
 },
 "nbformat": 4,
 "nbformat_minor": 5
}
