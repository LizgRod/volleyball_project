{
 "cells": [
  {
   "cell_type": "code",
   "execution_count": 1,
   "id": "ff7402a5",
   "metadata": {},
   "outputs": [],
   "source": [
    "# Importing needed packages\n",
    "\n",
    "import pandas as pd\n",
    "import numpy as np\n",
    "import scipy\n",
    "from itertools import islice\n",
    "from collections import Counter\n",
    "import matplotlib.pyplot as plt\n",
    "import csv\n",
    "import math\n",
    "import warnings\n",
    "from sklearn.linear_model import LinearRegression\n"
   ]
  },
  {
   "cell_type": "code",
   "execution_count": 2,
   "id": "5e970d16",
   "metadata": {},
   "outputs": [
    {
     "name": "stderr",
     "output_type": "stream",
     "text": [
      "/opt/anaconda3/lib/python3.8/site-packages/IPython/core/interactiveshell.py:3165: DtypeWarning: Columns (33,59,74) have mixed types.Specify dtype option on import or set low_memory=False.\n",
      "  has_raised = await self.run_ast_nodes(code_ast.body, cell_name,\n"
     ]
    }
   ],
   "source": [
    "# Read in the dataframe:\n",
    "\n",
    "all_matches = pd.read_csv('all_matches.csv')\n",
    "warnings.filterwarnings('ignore')"
   ]
  },
  {
   "cell_type": "code",
   "execution_count": 4,
   "id": "33f48404",
   "metadata": {},
   "outputs": [
    {
     "data": {
      "text/plain": [
       "(249660, 124)"
      ]
     },
     "execution_count": 4,
     "metadata": {},
     "output_type": "execute_result"
    }
   ],
   "source": [
    "# Dimensions of the dataset (#rows, #columns)\n",
    "\n",
    "all_matches.shape"
   ]
  },
  {
   "cell_type": "markdown",
   "id": "85f9f16c",
   "metadata": {},
   "source": [
    "Create a new column for the four groups:\n",
    "\n",
    "(\"PG\", \"WH\", \"PR\", \"PT\", \"P4\", \"PH\") ~ \"Left\"\n",
    "\n",
    "(\"P3\", \"P2\", \"P1\", \"PX\", \"PC\", \"PZ\") ~ \"Middle\"\n",
    "\n",
    "(\"PA\", \"PD\", \"WF\", \"PB\", \"PF\") ~ \"Right\"\n",
    "\n",
    "(\"VB\", \"VN\", \"VM\", \"WM\", \"WN\") ~ \"Back Row\"ed:"
   ]
  },
  {
   "cell_type": "code",
   "execution_count": 5,
   "id": "6bf6d749",
   "metadata": {},
   "outputs": [],
   "source": [
    "all_matches['type_group'] = \"\""
   ]
  },
  {
   "cell_type": "code",
   "execution_count": 6,
   "id": "22197594",
   "metadata": {},
   "outputs": [],
   "source": [
    "L = [\"PG\", \"WH\", \"PR\", \"PT\", \"P4\", \"PH\"]\n",
    "M = [\"P3\", \"P2\", \"P1\", \"PX\", \"PC\", \"PZ\"]\n",
    "R = [\"PA\", \"PD\", \"WF\", \"PB\", \"PF\"]\n",
    "BR = [\"VB\", \"VN\", \"VM\", \"WM\", \"WN\"]\n",
    "\n",
    "\n",
    "# This for-loop goes through the 'attack_code' column and groups them into one of four groups.\n",
    "for index, row in all_matches.iterrows():\n",
    "    if row['attack_code'] in L:\n",
    "        all_matches.at[index, 'type_group'] = 'L'\n",
    "    elif row['attack_code'] in M:\n",
    "        all_matches.at[index, 'type_group'] = 'M'\n",
    "    elif row['attack_code'] in R:\n",
    "        all_matches.at[index, 'type_group'] = 'R'\n",
    "    elif row['attack_code'] in BR:\n",
    "        all_matches.at[index, 'type_group'] = 'BR'\n",
    "    \n",
    "    else:\n",
    "        all_matches.at[index, 'type_group'] = 'NaN'\n",
    "        "
   ]
  },
  {
   "cell_type": "code",
   "execution_count": 8,
   "id": "e5092537",
   "metadata": {},
   "outputs": [
    {
     "name": "stdout",
     "output_type": "stream",
     "text": [
      "51 teams\n"
     ]
    }
   ],
   "source": [
    "# How many teams total are in this dataset\n",
    "\n",
    "teams = all_matches['team'].nunique()\n",
    "print(teams,'teams')"
   ]
  },
  {
   "cell_type": "code",
   "execution_count": 9,
   "id": "0321cb3a",
   "metadata": {},
   "outputs": [
    {
     "name": "stdout",
     "output_type": "stream",
     "text": [
      "{'AZ': 10, 'AZ St': 10, 'Abilene Christian': 1, 'Albany': 1, 'Baylor': 1, 'CO St': 6, 'CU': 153, 'Cal': 9, 'Campbell': 1, 'DU': 1, 'Den': 1, 'FIU': 1, 'GA': 1, 'IA': 4, 'IL': 5, 'IN St': 1, 'JMU': 1, 'LIU': 1, 'NC': 1, 'NE': 1, 'NSULA': 1, 'OK': 2, 'OR': 9, 'OR St': 9, 'ORU': 1, 'Oakland': 1, 'PA St': 1, 'Portland St': 1, 'Rice': 1, 'SC': 1, 'SJSU': 1, 'Seton Hall': 1, 'Stan': 7, 'TTU': 1, 'UALR': 1, 'UCLA': 9, 'UCSB': 1, 'UMBC': 1, 'UNCC': 1, 'UNCO': 1, 'UNF': 1, 'USC': 9, 'UT': 10, 'UWGB': 1, 'W MI': 1, 'WA': 9, 'WA St': 8, 'WSU': 1, 'WY': 2, 'Wake': 1, 'Xavier': 2}\n"
     ]
    }
   ],
   "source": [
    "# A dictionary that shows how many matches each team has played\n",
    "\n",
    "unique_vals = dict(all_matches.groupby('team')['match_id'].nunique())\n",
    "print(unique_vals)"
   ]
  },
  {
   "cell_type": "code",
   "execution_count": 10,
   "id": "1e246554",
   "metadata": {},
   "outputs": [],
   "source": [
    "# Which teams have played only 1 match vs mult. matches\n",
    "\n",
    "one_match = []\n",
    "mult_match = []\n",
    "\n",
    "for key, value in unique_vals.items():\n",
    "    if value == 1:\n",
    "        one_match.append(key)\n",
    "    else:\n",
    "        mult_match.append(key)"
   ]
  },
  {
   "cell_type": "markdown",
   "id": "f706f32b",
   "metadata": {},
   "source": [
    "Outside hitter should be identified by hitting a high percentage of sets that fall into the 'Left' (L in type_group) group."
   ]
  },
  {
   "cell_type": "markdown",
   "id": "1ca0c469",
   "metadata": {},
   "source": [
    "- Make a dataframe of only `skill` = `attack`\n",
    "\n",
    "- Add up their 'left' attacks and divide it by all the attacks the player has hit"
   ]
  },
  {
   "cell_type": "code",
   "execution_count": 11,
   "id": "45b4bc8c",
   "metadata": {},
   "outputs": [],
   "source": [
    "# Grouping the original dataframe 'all_matches' into only the rows with the column skill = attack\n",
    "\n",
    "attack_only = all_matches[all_matches['skill'] == 'Attack']\n"
   ]
  },
  {
   "cell_type": "markdown",
   "id": "48dbf8df",
   "metadata": {},
   "source": [
    "left_percentages is a dictionary with the keys being player names and the values being their percentage of attacks that fall into left category."
   ]
  },
  {
   "cell_type": "code",
   "execution_count": 12,
   "id": "2842e7d0",
   "metadata": {},
   "outputs": [],
   "source": [
    "left_percentages = {}\n",
    "\n",
    "for player in attack_only['player_name'].unique():\n",
    "    player_data = attack_only[attack_only['player_name'] == player]\n",
    "    play_left = player_data['type_group'].value_counts().get('L', 0)\n",
    "    tot_p = player_data['type_group'].apply(lambda x: ((x=='L') | (x=='R'))| (x=='M') | (x=='BR')).sum().sum()\n",
    "    player_percent = play_left/tot_p\n",
    "    left_percentages[player] = player_percent\n",
    "    \n",
    "#print(left_percentages)\n"
   ]
  },
  {
   "cell_type": "code",
   "execution_count": 13,
   "id": "20295cbd",
   "metadata": {},
   "outputs": [
    {
     "data": {
      "text/plain": [
       "594"
      ]
     },
     "execution_count": 13,
     "metadata": {},
     "output_type": "execute_result"
    }
   ],
   "source": [
    "# How many players in the `left_percentages` dictionary\n",
    "\n",
    "len(left_percentages)"
   ]
  },
  {
   "cell_type": "code",
   "execution_count": 14,
   "id": "ee420ac3",
   "metadata": {},
   "outputs": [],
   "source": [
    "# Getting rid of nan values in left_percentages dictionary\n",
    "\n",
    "left_percentages = {key: value for key, value in left_percentages.items() if not math.isnan(value)}\n"
   ]
  },
  {
   "cell_type": "code",
   "execution_count": 15,
   "id": "41b09a05",
   "metadata": {},
   "outputs": [
    {
     "data": {
      "text/plain": [
       "515"
      ]
     },
     "execution_count": 15,
     "metadata": {},
     "output_type": "execute_result"
    }
   ],
   "source": [
    "# How many players in `left_percentages` dictionary that are not nan\n",
    "\n",
    "len(left_percentages)"
   ]
  },
  {
   "cell_type": "code",
   "execution_count": 16,
   "id": "75584a0d",
   "metadata": {},
   "outputs": [],
   "source": [
    "# Sorting the `left_percentages` dictionary by the values in ascending order \n",
    "\n",
    "left_percentages2 = dict(sorted(left_percentages.items(), key = lambda item: item[1]))"
   ]
  },
  {
   "cell_type": "markdown",
   "id": "69643a5b",
   "metadata": {},
   "source": [
    "The next few code blocks is making a csv file with the total sum of attacks each player had, and setting a threshold for OH with 11 or more attack attempts"
   ]
  },
  {
   "cell_type": "code",
   "execution_count": 17,
   "id": "cf08f2a9",
   "metadata": {},
   "outputs": [],
   "source": [
    "percent_attacks = {}\n",
    "\n",
    "for player, percent in left_percentages2.items():\n",
    "    player_df = all_matches[all_matches['player_name'] == player]\n",
    "    \n",
    "    sum_attack = (player_df['skill'] == 'Attack').sum()\n",
    "    \n",
    "    percent_attacks[player] = sum_attack"
   ]
  },
  {
   "cell_type": "code",
   "execution_count": 18,
   "id": "a5da5456",
   "metadata": {},
   "outputs": [],
   "source": [
    "#percent_attacks"
   ]
  },
  {
   "cell_type": "code",
   "execution_count": 19,
   "id": "4ec57939",
   "metadata": {},
   "outputs": [
    {
     "data": {
      "text/plain": [
       "515"
      ]
     },
     "execution_count": 19,
     "metadata": {},
     "output_type": "execute_result"
    }
   ],
   "source": [
    "len(percent_attacks)"
   ]
  },
  {
   "cell_type": "code",
   "execution_count": 20,
   "id": "3632bbab",
   "metadata": {},
   "outputs": [],
   "source": [
    "sum_attacks = {k: v for k, v in percent_attacks.items() if v >= 11}\n",
    "#sum_attacks"
   ]
  },
  {
   "cell_type": "code",
   "execution_count": 21,
   "id": "c4f59566",
   "metadata": {},
   "outputs": [
    {
     "data": {
      "text/plain": [
       "397"
      ]
     },
     "execution_count": 21,
     "metadata": {},
     "output_type": "execute_result"
    }
   ],
   "source": [
    "len(sum_attacks)"
   ]
  },
  {
   "cell_type": "code",
   "execution_count": 22,
   "id": "e380a4a0",
   "metadata": {},
   "outputs": [],
   "source": [
    "num_attacks = pd.DataFrame.from_dict(percent_attacks, orient = 'index', columns = ['Total Attacks'] )\n"
   ]
  },
  {
   "cell_type": "code",
   "execution_count": 23,
   "id": "89467403",
   "metadata": {},
   "outputs": [],
   "source": [
    "num_attacks.to_csv('num_attacks', index=True, sep='\\t')"
   ]
  },
  {
   "cell_type": "code",
   "execution_count": 24,
   "id": "f6baccb8",
   "metadata": {},
   "outputs": [],
   "source": [
    "sum_attacks2 = pd.DataFrame.from_dict(percent_attacks, orient = 'index', columns = ['Total Attacks'] )\n",
    "sum_attacks2.to_csv('sum_of_attacks2', index=True, sep='\\t')\n"
   ]
  },
  {
   "cell_type": "markdown",
   "id": "1fdb783c",
   "metadata": {},
   "source": [
    "Making a dictionary witht o 50% threshold and the 11 attack threshold to get the list of OH"
   ]
  },
  {
   "cell_type": "code",
   "execution_count": 25,
   "id": "89631b3a",
   "metadata": {},
   "outputs": [],
   "source": [
    "#left_percentages2"
   ]
  },
  {
   "cell_type": "code",
   "execution_count": 26,
   "id": "374eac19",
   "metadata": {},
   "outputs": [],
   "source": [
    "#percent_attacks"
   ]
  },
  {
   "cell_type": "code",
   "execution_count": 27,
   "id": "26a6d963",
   "metadata": {},
   "outputs": [],
   "source": [
    "outside_hitters2 = {}"
   ]
  },
  {
   "cell_type": "code",
   "execution_count": 28,
   "id": "0fb8f458",
   "metadata": {},
   "outputs": [],
   "source": [
    "for key, value in percent_attacks.items():\n",
    "    if value >= 11:\n",
    "        outside_hitters2[key] = value"
   ]
  },
  {
   "cell_type": "code",
   "execution_count": 29,
   "id": "99728d0f",
   "metadata": {},
   "outputs": [],
   "source": [
    "#outside_hitters2"
   ]
  },
  {
   "cell_type": "code",
   "execution_count": 30,
   "id": "0fa45ffa",
   "metadata": {},
   "outputs": [
    {
     "data": {
      "text/plain": [
       "397"
      ]
     },
     "execution_count": 30,
     "metadata": {},
     "output_type": "execute_result"
    }
   ],
   "source": [
    "# How many outside hitters are in this dictionary\n",
    "len(outside_hitters2)"
   ]
  },
  {
   "cell_type": "code",
   "execution_count": 31,
   "id": "d5343671",
   "metadata": {},
   "outputs": [],
   "source": [
    "outside_hitters3 = {}"
   ]
  },
  {
   "cell_type": "code",
   "execution_count": 32,
   "id": "720bd712",
   "metadata": {},
   "outputs": [],
   "source": [
    "for key, value in left_percentages2.items():\n",
    "    if value >= .50:\n",
    "        outside_hitters3[key] = value"
   ]
  },
  {
   "cell_type": "code",
   "execution_count": 33,
   "id": "22d6d18b",
   "metadata": {},
   "outputs": [],
   "source": [
    "#outside_hitters3"
   ]
  },
  {
   "cell_type": "code",
   "execution_count": 34,
   "id": "a0312c48",
   "metadata": {},
   "outputs": [
    {
     "data": {
      "text/plain": [
       "197"
      ]
     },
     "execution_count": 34,
     "metadata": {},
     "output_type": "execute_result"
    }
   ],
   "source": [
    "\n",
    "len(outside_hitters3)"
   ]
  },
  {
   "cell_type": "code",
   "execution_count": 35,
   "id": "4223d5a3",
   "metadata": {},
   "outputs": [],
   "source": [
    "keys1 = set(outside_hitters2.keys())"
   ]
  },
  {
   "cell_type": "code",
   "execution_count": 36,
   "id": "f04e6eea",
   "metadata": {},
   "outputs": [],
   "source": [
    "keys2 = set(outside_hitters3.keys())"
   ]
  },
  {
   "cell_type": "code",
   "execution_count": 37,
   "id": "787f9de0",
   "metadata": {},
   "outputs": [],
   "source": [
    "# Creating a list of OH with both thresholds\n",
    "Outside_Hitters = list(keys1.intersection(keys2))"
   ]
  },
  {
   "cell_type": "code",
   "execution_count": 38,
   "id": "76e29002",
   "metadata": {},
   "outputs": [],
   "source": [
    "#Outside_Hitters"
   ]
  },
  {
   "cell_type": "code",
   "execution_count": 39,
   "id": "80c28c0a",
   "metadata": {},
   "outputs": [
    {
     "data": {
      "text/plain": [
       "167"
      ]
     },
     "execution_count": 39,
     "metadata": {},
     "output_type": "execute_result"
    }
   ],
   "source": [
    "len(Outside_Hitters) "
   ]
  },
  {
   "cell_type": "code",
   "execution_count": 40,
   "id": "ec97e613",
   "metadata": {},
   "outputs": [],
   "source": [
    "# Resetting the 'player_position' column so every value is NA\n",
    "all_matches['player_position'] = 'NA'"
   ]
  },
  {
   "cell_type": "code",
   "execution_count": 41,
   "id": "f6ec7ecd",
   "metadata": {},
   "outputs": [],
   "source": [
    "# Labeling the outside hitters in the original dataset\n",
    "\n",
    "all_matches.loc[all_matches['player_name'].isin(Outside_Hitters), 'player_position'] = 'OH'\n"
   ]
  },
  {
   "cell_type": "markdown",
   "id": "006239f5",
   "metadata": {},
   "source": [
    "Computing the percentage of attacks responsible by the outside hitter for each team:"
   ]
  },
  {
   "cell_type": "code",
   "execution_count": 43,
   "id": "864db1e7",
   "metadata": {},
   "outputs": [],
   "source": [
    "# A dataframe with attacks as the only skill\n",
    "\n",
    "attack_df = all_matches[all_matches['skill'] == 'Attack']"
   ]
  },
  {
   "cell_type": "code",
   "execution_count": 44,
   "id": "daa8f4f2",
   "metadata": {},
   "outputs": [],
   "source": [
    "# Create a dataframe for only the teams that have played one match:\n",
    "\n",
    "one_match_df = attack_df[attack_df['team'].isin(one_match)]"
   ]
  },
  {
   "cell_type": "code",
   "execution_count": 45,
   "id": "851e62bf",
   "metadata": {},
   "outputs": [],
   "source": [
    "# Create a dataframe for the teams that have played more than one match:\n",
    "\n",
    "mult_match_df = attack_df[attack_df['team'].isin(mult_match)]\n",
    "teams1 = mult_match_df['team'].unique()\n",
    "matches1 = mult_match_df['match_id'].unique()"
   ]
  },
  {
   "cell_type": "code",
   "execution_count": 46,
   "id": "7baab95a",
   "metadata": {},
   "outputs": [],
   "source": [
    "# Calculate the percent of attacks that OH are responsible for in a loop:\n",
    "\n",
    "\n",
    "attack_percentages2 = {}\n",
    "\n",
    "for team in teams1:\n",
    "    \n",
    "    group = mult_match_df[mult_match_df['team'] == team]\n",
    "    \n",
    "    for match in group['match_id'].unique():\n",
    "        \n",
    "        group2 = group[group['match_id'] == match]\n",
    "        \n",
    "        percent_OH = (group2['player_position'] == 'OH').sum()\n",
    "        \n",
    "        tot_percent = (group2['player_position'] == 'OH').sum() + (group2['player_position'] == 'NA').sum()\n",
    "        \n",
    "        if tot_percent == 0:\n",
    "            attack_perc = 0\n",
    "        else:\n",
    "            attack_perc = percent_OH / tot_percent\n",
    "            \n",
    "        attack_percentages2[(team, match)] = attack_perc\n",
    "        "
   ]
  },
  {
   "cell_type": "code",
   "execution_count": 47,
   "id": "fcb0642d",
   "metadata": {},
   "outputs": [
    {
     "name": "stdout",
     "output_type": "stream",
     "text": [
      "                                           Percent attacks by OH\n",
      "(CU, 24fe712b9d553f6a88347598f84a2616)                  0.585366\n",
      "(CU, 3ea1d34d13816201660623c1f134edc4)                  0.553571\n",
      "(CU, 269892222ba8ea67a10ffaf738c1ec28)                  0.488550\n",
      "(CU, 531ede0ec4ba713908b77173ad24fb51)                  0.526316\n",
      "(CU, 8ed2dcea382d968235d76653195c5c28)                  0.551020\n",
      "...                                                          ...\n",
      "(OR St, e49e03d1200e03589a0c88360b474504)               0.540541\n",
      "(OK, a68b1199c4dfec9273aa2481b8886cfb)                  0.504000\n",
      "(OK, 70a851bb68ac3e4e369ef17cabdb5399)                  0.366972\n",
      "(WY, 3b81cf188d02af7deb4bd99f44bf1698)                  0.369128\n",
      "(WY, 638ef8538229b68f35389f6031ee7a29)                  0.365385\n",
      "\n",
      "[273 rows x 1 columns]\n"
     ]
    }
   ],
   "source": [
    "df2 = pd.DataFrame.from_dict(attack_percentages2, orient = 'index', columns = ['Percent attacks by OH'] )\n",
    "print(df2)"
   ]
  },
  {
   "cell_type": "markdown",
   "id": "ec34bb9c",
   "metadata": {},
   "source": [
    "Compute the number of receptions made by the outside hitter:"
   ]
  },
  {
   "cell_type": "code",
   "execution_count": 48,
   "id": "3506b524",
   "metadata": {},
   "outputs": [],
   "source": [
    "# Create a dataframe only for receptions as the skill:\n",
    "\n",
    "receps_df = all_matches[all_matches['skill'] == 'Reception']"
   ]
  },
  {
   "cell_type": "markdown",
   "id": "5d339d71",
   "metadata": {},
   "source": [
    "First do it for the schools that have only played one match:"
   ]
  },
  {
   "cell_type": "code",
   "execution_count": 49,
   "id": "e7c5680c",
   "metadata": {},
   "outputs": [],
   "source": [
    "# Create a dataframe for these schools:\n",
    "\n",
    "one_match_df2 = receps_df[receps_df['team'].isin(one_match)]"
   ]
  },
  {
   "cell_type": "code",
   "execution_count": 50,
   "id": "26fa26d1",
   "metadata": {},
   "outputs": [],
   "source": [
    "# Calculate the percent of receptions that OH are responsible for in a loop:\n",
    "\n",
    "receps_percentages_OH = {}\n",
    "\n",
    "for team in one_match_df2['team'].unique():\n",
    "    team_df = one_match_df2[one_match_df2['team'] == team]\n",
    "    percent_OH = (team_df['player_position'] == 'OH').sum()\n",
    "    tot_percent = (team_df['player_position'] == 'OH').sum() + (team_df['player_position'] == 'S').sum() + (team_df['player_position'] == 'Missing').sum()\n",
    "    #tot_percent = len(team_df['player_position'])\n",
    "    attack_per = percent_OH/tot_percent\n",
    "    receps_percentages_OH[team] = attack_per\n"
   ]
  },
  {
   "cell_type": "code",
   "execution_count": 51,
   "id": "3db8be78",
   "metadata": {},
   "outputs": [
    {
     "name": "stdout",
     "output_type": "stream",
     "text": [
      "                   Percent receptions by OH\n",
      "NSULA                                   1.0\n",
      "Albany                                  1.0\n",
      "UNCC                                    1.0\n",
      "SJSU                                    1.0\n",
      "TTU                                     1.0\n",
      "UNCO                                    1.0\n",
      "UWGB                                    1.0\n",
      "W MI                                    1.0\n",
      "Den                                     1.0\n",
      "FIU                                     1.0\n",
      "UALR                                    1.0\n",
      "WSU                                     1.0\n",
      "Seton Hall                              1.0\n",
      "JMU                                     1.0\n",
      "Baylor                                  1.0\n",
      "NE                                      1.0\n",
      "ORU                                     1.0\n",
      "UNF                                     1.0\n",
      "Rice                                    1.0\n",
      "GA                                      1.0\n",
      "NC                                      1.0\n",
      "Portland St                             1.0\n",
      "IN St                                   1.0\n",
      "Wake                                    1.0\n",
      "Abilene Christian                       1.0\n",
      "SC                                      1.0\n",
      "LIU                                     1.0\n",
      "UCSB                                    1.0\n",
      "PA St                                   1.0\n",
      "Oakland                                 1.0\n",
      "Campbell                                1.0\n",
      "UMBC                                    1.0\n",
      "DU                                      1.0\n"
     ]
    }
   ],
   "source": [
    "df4 = pd.DataFrame.from_dict(receps_percentages_OH, orient = 'index', columns = ['Percent receptions by OH'] )\n",
    "print(df4)"
   ]
  },
  {
   "cell_type": "markdown",
   "id": "7ccda381",
   "metadata": {},
   "source": [
    "Now do it for the schools that have played more than one match:"
   ]
  },
  {
   "cell_type": "code",
   "execution_count": 52,
   "id": "2afbe4db",
   "metadata": {},
   "outputs": [],
   "source": [
    "# Create a dataframe for schools with multiple matches and skill being receptions\n",
    "# Create a list of teams with multiple matches\n",
    "# Create a list of match-ids for each school that have played multiple matches\n",
    "\n",
    "mult_match_df2 = receps_df[receps_df['team'].isin(mult_match)]\n",
    "teams2 = mult_match_df2['team'].unique()\n",
    "matches2 = mult_match_df['match_id'].unique()"
   ]
  },
  {
   "cell_type": "code",
   "execution_count": 53,
   "id": "1c6c14bb",
   "metadata": {},
   "outputs": [],
   "source": [
    "# Calculate the percent of receptions that OH are responsible for in a loop:\n",
    "\n",
    "\n",
    "receps_percentages2 = {}\n",
    "\n",
    "for team in teams2:\n",
    "    \n",
    "    group = mult_match_df2[mult_match_df2['team'] == team]\n",
    "    \n",
    "    for match in group['match_id'].unique():\n",
    "        \n",
    "        group2 = group[group['match_id'] == match]\n",
    "        \n",
    "        percent_OH = (group2['player_position'] == 'OH').sum()\n",
    "        \n",
    "        tot_percent = (group2['player_position'] == 'OH').sum() + (group2['player_position'] == 'S').sum() + (group2['player_position'] == 'Missing').sum()\n",
    "        \n",
    "        if tot_percent == 0:\n",
    "            receps_perc = 0\n",
    "        else:\n",
    "            receps_perc = percent_OH / tot_percent\n",
    "            \n",
    "        receps_percentages2[(team, match)] = receps_perc\n",
    "        "
   ]
  },
  {
   "cell_type": "code",
   "execution_count": 54,
   "id": "2ba9a638",
   "metadata": {},
   "outputs": [
    {
     "name": "stdout",
     "output_type": "stream",
     "text": [
      "                                           Percent receptions by OH\n",
      "(CU, 24fe712b9d553f6a88347598f84a2616)                          1.0\n",
      "(CU, 3ea1d34d13816201660623c1f134edc4)                          1.0\n",
      "(CU, 269892222ba8ea67a10ffaf738c1ec28)                          1.0\n",
      "(CU, 531ede0ec4ba713908b77173ad24fb51)                          1.0\n",
      "(CU, 8ed2dcea382d968235d76653195c5c28)                          1.0\n",
      "...                                                             ...\n",
      "(OR St, e49e03d1200e03589a0c88360b474504)                       1.0\n",
      "(OK, a68b1199c4dfec9273aa2481b8886cfb)                          1.0\n",
      "(OK, 70a851bb68ac3e4e369ef17cabdb5399)                          1.0\n",
      "(WY, 3b81cf188d02af7deb4bd99f44bf1698)                          1.0\n",
      "(WY, 638ef8538229b68f35389f6031ee7a29)                          1.0\n",
      "\n",
      "[273 rows x 1 columns]\n"
     ]
    }
   ],
   "source": [
    "df5 = pd.DataFrame.from_dict(receps_percentages2, orient = 'index', columns = ['Percent receptions by OH'] )\n",
    "print(df5)"
   ]
  },
  {
   "cell_type": "code",
   "execution_count": 55,
   "id": "333c123f",
   "metadata": {},
   "outputs": [],
   "source": [
    "# Put both dictionaries together into one for all reception percentages for each match:\n",
    "\n",
    "reception_percentages = receps_percentages_OH.update(receps_percentages2)"
   ]
  },
  {
   "cell_type": "code",
   "execution_count": 56,
   "id": "39af9d4b",
   "metadata": {},
   "outputs": [],
   "source": [
    "#receps_percentages_OH"
   ]
  },
  {
   "cell_type": "code",
   "execution_count": 57,
   "id": "d6f754b6",
   "metadata": {},
   "outputs": [
    {
     "name": "stdout",
     "output_type": "stream",
     "text": [
      "                                           Percent of receptions made by OH\n",
      "NSULA                                                                   1.0\n",
      "Albany                                                                  1.0\n",
      "UNCC                                                                    1.0\n",
      "SJSU                                                                    1.0\n",
      "TTU                                                                     1.0\n",
      "...                                                                     ...\n",
      "(OR St, e49e03d1200e03589a0c88360b474504)                               1.0\n",
      "(OK, a68b1199c4dfec9273aa2481b8886cfb)                                  1.0\n",
      "(OK, 70a851bb68ac3e4e369ef17cabdb5399)                                  1.0\n",
      "(WY, 3b81cf188d02af7deb4bd99f44bf1698)                                  1.0\n",
      "(WY, 638ef8538229b68f35389f6031ee7a29)                                  1.0\n",
      "\n",
      "[306 rows x 1 columns]\n"
     ]
    }
   ],
   "source": [
    "OH_receps_matches= pd.DataFrame.from_dict(receps_percentages_OH, orient = 'index', columns = ['Percent of receptions made by OH'] )\n",
    "print(OH_receps_matches)\n"
   ]
  },
  {
   "cell_type": "code",
   "execution_count": 58,
   "id": "f3990bd6",
   "metadata": {},
   "outputs": [],
   "source": [
    "OH_receps_matches.to_csv('Perc_receps_match', index=True, sep='\\t')"
   ]
  },
  {
   "cell_type": "markdown",
   "id": "3bfedb73",
   "metadata": {},
   "source": [
    "Compute the number of attacks and receptions made by the outside hitter for each match:"
   ]
  },
  {
   "cell_type": "code",
   "execution_count": 59,
   "id": "2621095e",
   "metadata": {},
   "outputs": [],
   "source": [
    "# Create a dataframe with skill only being attacks and receptions:\n",
    "\n",
    "receps_attacks = all_matches.loc[all_matches['skill'].isin(['Attack', 'Reception'])]"
   ]
  },
  {
   "cell_type": "code",
   "execution_count": 60,
   "id": "de76ca9e",
   "metadata": {},
   "outputs": [],
   "source": [
    "# Start with the teams that have only played one match:\n",
    "\n",
    "one_match_df2 = receps_attacks[receps_attacks['team'].isin(one_match)]"
   ]
  },
  {
   "cell_type": "code",
   "execution_count": 61,
   "id": "7d507af4",
   "metadata": {},
   "outputs": [],
   "source": [
    "# Calculate the percent of attacks plus receptions that OH are responsible for in a loop:\n",
    "\n",
    "attack_and_receps = {}\n",
    "\n",
    "for team in one_match_df2['team'].unique():\n",
    "    team_df = one_match_df2[one_match_df2['team'] == team]\n",
    "    percent_OH = (team_df['player_position'] == 'OH').sum()\n",
    "    tot_percent = (team_df['player_position'] == 'OH').sum() + (team_df['player_position'] == 'S').sum() + (team_df['player_position'] == 'Missing').sum()\n",
    "    #tot_percent = len(team_df['player_position'])\n",
    "    attack_receps = percent_OH/tot_percent\n",
    "    attack_and_receps[team] = attack_receps\n",
    "    \n",
    "    "
   ]
  },
  {
   "cell_type": "code",
   "execution_count": 62,
   "id": "ebee2760",
   "metadata": {},
   "outputs": [
    {
     "name": "stdout",
     "output_type": "stream",
     "text": [
      "                   Percent attacks & receptions by OH\n",
      "NSULA                                             1.0\n",
      "Albany                                            1.0\n",
      "UNCC                                              1.0\n",
      "SJSU                                              1.0\n",
      "TTU                                               1.0\n",
      "UNCO                                              1.0\n",
      "UWGB                                              1.0\n",
      "W MI                                              1.0\n",
      "Den                                               1.0\n",
      "FIU                                               1.0\n",
      "UALR                                              1.0\n",
      "WSU                                               1.0\n",
      "Seton Hall                                        1.0\n",
      "JMU                                               1.0\n",
      "Baylor                                            1.0\n",
      "NE                                                1.0\n",
      "ORU                                               1.0\n",
      "UNF                                               1.0\n",
      "Rice                                              1.0\n",
      "GA                                                1.0\n",
      "NC                                                1.0\n",
      "Portland St                                       1.0\n",
      "IN St                                             1.0\n",
      "Wake                                              1.0\n",
      "Abilene Christian                                 1.0\n",
      "SC                                                1.0\n",
      "LIU                                               1.0\n",
      "UCSB                                              1.0\n",
      "PA St                                             1.0\n",
      "Oakland                                           1.0\n",
      "Campbell                                          1.0\n",
      "UMBC                                              1.0\n",
      "DU                                                1.0\n"
     ]
    }
   ],
   "source": [
    "df6 = pd.DataFrame.from_dict(attack_and_receps, orient = 'index', columns = ['Percent attacks & receptions by OH'] )\n",
    "print(df6)"
   ]
  },
  {
   "cell_type": "code",
   "execution_count": 63,
   "id": "f99d4afc",
   "metadata": {},
   "outputs": [],
   "source": [
    "# Create dataframe for teams with multiple matches\n",
    "\n",
    "mult_match_df2 = receps_attacks[receps_attacks['team'].isin(mult_match)]"
   ]
  },
  {
   "cell_type": "code",
   "execution_count": 64,
   "id": "e5cab3de",
   "metadata": {},
   "outputs": [],
   "source": [
    "# Calculate the percent of attacks plus receptions that OH are responsible for in a loop:\n",
    "teams2 = mult_match_df2['team'].unique()\n",
    "\n",
    "\n",
    "attacks_receps2 = {}\n",
    "\n",
    "for team in teams2:\n",
    "    \n",
    "    group = mult_match_df2[mult_match_df2['team'] == team]\n",
    "    \n",
    "    for match in group['match_id'].unique():\n",
    "        \n",
    "        group2 = group[group['match_id'] == match]\n",
    "        \n",
    "        percent_OH = (group2['player_position'] == 'OH').sum()\n",
    "        \n",
    "        tot_percent = (group2['player_position'] == 'OH').sum() + (group2['player_position'] == 'S').sum() + (group2['player_position'] == 'Missing').sum()\n",
    "        \n",
    "        if tot_percent == 0:\n",
    "            re_at = 0\n",
    "        else:\n",
    "            re_at = percent_OH / tot_percent\n",
    "            \n",
    "        attacks_receps2[(team, match)] = re_at\n",
    "        "
   ]
  },
  {
   "cell_type": "code",
   "execution_count": 65,
   "id": "ffbd6de6",
   "metadata": {},
   "outputs": [
    {
     "name": "stdout",
     "output_type": "stream",
     "text": [
      "                                           Percent attacks & receptions by OH\n",
      "(CU, 24fe712b9d553f6a88347598f84a2616)                                    1.0\n",
      "(CU, 3ea1d34d13816201660623c1f134edc4)                                    1.0\n",
      "(CU, 269892222ba8ea67a10ffaf738c1ec28)                                    1.0\n",
      "(CU, 531ede0ec4ba713908b77173ad24fb51)                                    1.0\n",
      "(CU, 8ed2dcea382d968235d76653195c5c28)                                    1.0\n",
      "...                                                                       ...\n",
      "(OR St, e49e03d1200e03589a0c88360b474504)                                 1.0\n",
      "(OK, a68b1199c4dfec9273aa2481b8886cfb)                                    1.0\n",
      "(OK, 70a851bb68ac3e4e369ef17cabdb5399)                                    1.0\n",
      "(WY, 3b81cf188d02af7deb4bd99f44bf1698)                                    1.0\n",
      "(WY, 638ef8538229b68f35389f6031ee7a29)                                    1.0\n",
      "\n",
      "[273 rows x 1 columns]\n"
     ]
    }
   ],
   "source": [
    "df7 = pd.DataFrame.from_dict(attacks_receps2, orient = 'index', columns = ['Percent attacks & receptions by OH'] )\n",
    "print(df7)\n"
   ]
  },
  {
   "cell_type": "markdown",
   "id": "72c276ae",
   "metadata": {},
   "source": [
    "Compute the percentages of matches won by each team:"
   ]
  },
  {
   "cell_type": "code",
   "execution_count": 66,
   "id": "e2b264b7",
   "metadata": {},
   "outputs": [],
   "source": [
    "# First group the data by team: then count how many matches each team won\n",
    "\n",
    "perc_won = {}\n",
    "\n",
    "for team in all_matches['team'].unique():\n",
    "    team_df = all_matches[all_matches['team'] == team]\n",
    "    percent_won = (team_df['won_match'] == True).sum()\n",
    "    tot_percent = (team_df['won_match'] == True).sum() + (team_df['won_match'] == False).sum() + (team_df['won_match'] == 'nan').sum()\n",
    "    \n",
    "    if tot_percent == 0:\n",
    "        won_matches = 0\n",
    "    else:\n",
    "        won_matches = percent_won/tot_percent\n",
    " \n",
    "    perc_won[team] = won_matches\n"
   ]
  },
  {
   "cell_type": "code",
   "execution_count": 67,
   "id": "19ea5657",
   "metadata": {},
   "outputs": [
    {
     "name": "stdout",
     "output_type": "stream",
     "text": [
      "                   Percent of Matches Won\n",
      "CU                               0.544543\n",
      "NSULA                            0.000000\n",
      "NaN                              0.000000\n",
      "CO St                            0.294071\n",
      "Cal                              0.166301\n",
      "WA St                            0.898724\n",
      "WA                               0.785216\n",
      "OR                               0.566902\n",
      "UCLA                             0.657139\n",
      "Albany                           0.000000\n",
      "AZ                               0.698884\n",
      "UT                               0.673881\n",
      "AZ St                            0.347155\n",
      "USC                              0.811503\n",
      "UNCC                             0.000000\n",
      "Xavier                           0.000000\n",
      "IA                               0.000000\n",
      "IL                               0.162069\n",
      "SJSU                             0.000000\n",
      "TTU                              0.000000\n",
      "UNCO                             0.000000\n",
      "Stan                             1.000000\n",
      "OR St                            0.108724\n",
      "UWGB                             0.000000\n",
      "W MI                             0.000000\n",
      "Den                              0.000000\n",
      "FIU                              0.000000\n",
      "UALR                             0.000000\n",
      "WSU                              1.000000\n",
      "OK                               0.000000\n",
      "Seton Hall                       0.000000\n",
      "JMU                              0.000000\n",
      "Baylor                           0.000000\n",
      "NE                               1.000000\n",
      "ORU                              0.000000\n",
      "UNF                              0.000000\n",
      "WY                               0.598802\n",
      "Rice                             0.000000\n",
      "GA                               1.000000\n",
      "NC                               0.000000\n",
      "Portland St                      0.000000\n",
      "IN St                            0.000000\n",
      "Wake                             0.000000\n",
      "Abilene Christian                0.000000\n",
      "SC                               1.000000\n",
      "LIU                              0.000000\n",
      "UCSB                             0.000000\n",
      "PA St                            1.000000\n",
      "Oakland                          0.000000\n",
      "Campbell                         0.000000\n",
      "UMBC                             0.000000\n",
      "DU                               0.000000\n"
     ]
    }
   ],
   "source": [
    "df8 = pd.DataFrame.from_dict(perc_won, orient = 'index', columns = ['Percent of Matches Won'] )\n",
    "print(df8)"
   ]
  },
  {
   "cell_type": "markdown",
   "id": "62f91625",
   "metadata": {},
   "source": [
    "The next few code block are checking that the loop correctly works"
   ]
  },
  {
   "cell_type": "code",
   "execution_count": 68,
   "id": "f947ef21",
   "metadata": {},
   "outputs": [
    {
     "name": "stdout",
     "output_type": "stream",
     "text": [
      "[False]\n"
     ]
    }
   ],
   "source": [
    "den = all_matches[all_matches['team'] == 'Den']\n",
    "print(den['won_match'].unique())"
   ]
  },
  {
   "cell_type": "code",
   "execution_count": 69,
   "id": "67230bcc",
   "metadata": {},
   "outputs": [
    {
     "name": "stdout",
     "output_type": "stream",
     "text": [
      "[False]\n"
     ]
    }
   ],
   "source": [
    "DU = all_matches[all_matches['team'] == 'DU']\n",
    "print(DU['won_match'].unique())"
   ]
  },
  {
   "cell_type": "code",
   "execution_count": 70,
   "id": "898260ad",
   "metadata": {},
   "outputs": [
    {
     "name": "stdout",
     "output_type": "stream",
     "text": [
      "[False]\n"
     ]
    }
   ],
   "source": [
    "UMBC = all_matches[all_matches['team'] == 'UMBC']\n",
    "print(UMBC['won_match'].unique())"
   ]
  },
  {
   "cell_type": "code",
   "execution_count": 71,
   "id": "879bd156",
   "metadata": {},
   "outputs": [
    {
     "name": "stdout",
     "output_type": "stream",
     "text": [
      "[False]\n"
     ]
    }
   ],
   "source": [
    "Campbell = all_matches[all_matches['team'] == 'Campbell']\n",
    "print(Campbell['won_match'].unique())"
   ]
  },
  {
   "cell_type": "code",
   "execution_count": 72,
   "id": "6ec7db29",
   "metadata": {},
   "outputs": [
    {
     "name": "stdout",
     "output_type": "stream",
     "text": [
      "[True]\n"
     ]
    }
   ],
   "source": [
    "Stan = all_matches[all_matches['team'] == 'Stan']\n",
    "print(Stan['won_match'].unique())"
   ]
  },
  {
   "cell_type": "code",
   "execution_count": 73,
   "id": "699dc5f2",
   "metadata": {},
   "outputs": [
    {
     "name": "stdout",
     "output_type": "stream",
     "text": [
      "[True False]\n"
     ]
    }
   ],
   "source": [
    "CU = all_matches[all_matches['team'] == 'CU']\n",
    "print(CU['won_match'].unique())"
   ]
  },
  {
   "cell_type": "markdown",
   "id": "f754e46c",
   "metadata": {},
   "source": [
    "The next few code blocks are making a csv file with the number of matches each team plays"
   ]
  },
  {
   "cell_type": "code",
   "execution_count": 74,
   "id": "816b50a8",
   "metadata": {},
   "outputs": [
    {
     "name": "stdout",
     "output_type": "stream",
     "text": [
      "                   Number of Matches Played\n",
      "AZ                                       10\n",
      "AZ St                                    10\n",
      "Abilene Christian                         1\n",
      "Albany                                    1\n",
      "Baylor                                    1\n",
      "CO St                                     6\n",
      "CU                                      153\n",
      "Cal                                       9\n",
      "Campbell                                  1\n",
      "DU                                        1\n",
      "Den                                       1\n",
      "FIU                                       1\n",
      "GA                                        1\n",
      "IA                                        4\n",
      "IL                                        5\n",
      "IN St                                     1\n",
      "JMU                                       1\n",
      "LIU                                       1\n",
      "NC                                        1\n",
      "NE                                        1\n",
      "NSULA                                     1\n",
      "OK                                        2\n",
      "OR                                        9\n",
      "OR St                                     9\n",
      "ORU                                       1\n",
      "Oakland                                   1\n",
      "PA St                                     1\n",
      "Portland St                               1\n",
      "Rice                                      1\n",
      "SC                                        1\n",
      "SJSU                                      1\n",
      "Seton Hall                                1\n",
      "Stan                                      7\n",
      "TTU                                       1\n",
      "UALR                                      1\n",
      "UCLA                                      9\n",
      "UCSB                                      1\n",
      "UMBC                                      1\n",
      "UNCC                                      1\n",
      "UNCO                                      1\n",
      "UNF                                       1\n",
      "USC                                       9\n",
      "UT                                       10\n",
      "UWGB                                      1\n",
      "W MI                                      1\n",
      "WA                                        9\n",
      "WA St                                     8\n",
      "WSU                                       1\n",
      "WY                                        2\n",
      "Wake                                      1\n",
      "Xavier                                    2\n"
     ]
    }
   ],
   "source": [
    "# Unique teams with the number of matches that they played\n",
    "\n",
    "unique_vals = dict(all_matches.groupby('team')['match_id'].nunique())\n",
    "u_v = pd.DataFrame.from_dict(unique_vals, orient = 'index', columns = ['Number of Matches Played'] )\n",
    "print(u_v)\n"
   ]
  },
  {
   "cell_type": "code",
   "execution_count": 75,
   "id": "65f25aea",
   "metadata": {},
   "outputs": [],
   "source": [
    "u_v.to_csv('number_matches', index=True, sep='\\t')"
   ]
  },
  {
   "cell_type": "markdown",
   "id": "c8034473",
   "metadata": {},
   "source": [
    "2nd Project: Analysis of Outside Hitters\n"
   ]
  },
  {
   "cell_type": "markdown",
   "id": "bea43602",
   "metadata": {},
   "source": [
    "Notes from Eduardo:\n",
    "- Drop teams with a single match\n",
    "- Re run the all_matches data with the new file\n",
    "- Drop all players that have less than 11 attempts"
   ]
  },
  {
   "cell_type": "markdown",
   "id": "05f951c1",
   "metadata": {},
   "source": [
    "RQ 1: Does the ability to win depend on how often OH receive the ball?\n",
    "* Variables: % of reception attempts by OH (per team)\n",
    "\n",
    "Hypothesis: More reception attempts by OH are associated with more sets or matches won"
   ]
  },
  {
   "cell_type": "markdown",
   "id": "f66653d5",
   "metadata": {},
   "source": [
    "A list of Team names that have played more than one match"
   ]
  },
  {
   "cell_type": "code",
   "execution_count": 76,
   "id": "94f1e8c1",
   "metadata": {},
   "outputs": [
    {
     "data": {
      "text/html": [
       "<div>\n",
       "<style scoped>\n",
       "    .dataframe tbody tr th:only-of-type {\n",
       "        vertical-align: middle;\n",
       "    }\n",
       "\n",
       "    .dataframe tbody tr th {\n",
       "        vertical-align: top;\n",
       "    }\n",
       "\n",
       "    .dataframe thead th {\n",
       "        text-align: right;\n",
       "    }\n",
       "</style>\n",
       "<table border=\"1\" class=\"dataframe\">\n",
       "  <thead>\n",
       "    <tr style=\"text-align: right;\">\n",
       "      <th></th>\n",
       "      <th>Number of Matches Played</th>\n",
       "    </tr>\n",
       "  </thead>\n",
       "  <tbody>\n",
       "    <tr>\n",
       "      <th>AZ</th>\n",
       "      <td>10</td>\n",
       "    </tr>\n",
       "    <tr>\n",
       "      <th>AZ St</th>\n",
       "      <td>10</td>\n",
       "    </tr>\n",
       "    <tr>\n",
       "      <th>Abilene Christian</th>\n",
       "      <td>1</td>\n",
       "    </tr>\n",
       "    <tr>\n",
       "      <th>Albany</th>\n",
       "      <td>1</td>\n",
       "    </tr>\n",
       "    <tr>\n",
       "      <th>Baylor</th>\n",
       "      <td>1</td>\n",
       "    </tr>\n",
       "    <tr>\n",
       "      <th>CO St</th>\n",
       "      <td>6</td>\n",
       "    </tr>\n",
       "    <tr>\n",
       "      <th>CU</th>\n",
       "      <td>153</td>\n",
       "    </tr>\n",
       "    <tr>\n",
       "      <th>Cal</th>\n",
       "      <td>9</td>\n",
       "    </tr>\n",
       "    <tr>\n",
       "      <th>Campbell</th>\n",
       "      <td>1</td>\n",
       "    </tr>\n",
       "    <tr>\n",
       "      <th>DU</th>\n",
       "      <td>1</td>\n",
       "    </tr>\n",
       "    <tr>\n",
       "      <th>Den</th>\n",
       "      <td>1</td>\n",
       "    </tr>\n",
       "    <tr>\n",
       "      <th>FIU</th>\n",
       "      <td>1</td>\n",
       "    </tr>\n",
       "    <tr>\n",
       "      <th>GA</th>\n",
       "      <td>1</td>\n",
       "    </tr>\n",
       "    <tr>\n",
       "      <th>IA</th>\n",
       "      <td>4</td>\n",
       "    </tr>\n",
       "    <tr>\n",
       "      <th>IL</th>\n",
       "      <td>5</td>\n",
       "    </tr>\n",
       "    <tr>\n",
       "      <th>IN St</th>\n",
       "      <td>1</td>\n",
       "    </tr>\n",
       "    <tr>\n",
       "      <th>JMU</th>\n",
       "      <td>1</td>\n",
       "    </tr>\n",
       "    <tr>\n",
       "      <th>LIU</th>\n",
       "      <td>1</td>\n",
       "    </tr>\n",
       "    <tr>\n",
       "      <th>NC</th>\n",
       "      <td>1</td>\n",
       "    </tr>\n",
       "    <tr>\n",
       "      <th>NE</th>\n",
       "      <td>1</td>\n",
       "    </tr>\n",
       "    <tr>\n",
       "      <th>NSULA</th>\n",
       "      <td>1</td>\n",
       "    </tr>\n",
       "    <tr>\n",
       "      <th>OK</th>\n",
       "      <td>2</td>\n",
       "    </tr>\n",
       "    <tr>\n",
       "      <th>OR</th>\n",
       "      <td>9</td>\n",
       "    </tr>\n",
       "    <tr>\n",
       "      <th>OR St</th>\n",
       "      <td>9</td>\n",
       "    </tr>\n",
       "    <tr>\n",
       "      <th>ORU</th>\n",
       "      <td>1</td>\n",
       "    </tr>\n",
       "    <tr>\n",
       "      <th>Oakland</th>\n",
       "      <td>1</td>\n",
       "    </tr>\n",
       "    <tr>\n",
       "      <th>PA St</th>\n",
       "      <td>1</td>\n",
       "    </tr>\n",
       "    <tr>\n",
       "      <th>Portland St</th>\n",
       "      <td>1</td>\n",
       "    </tr>\n",
       "    <tr>\n",
       "      <th>Rice</th>\n",
       "      <td>1</td>\n",
       "    </tr>\n",
       "    <tr>\n",
       "      <th>SC</th>\n",
       "      <td>1</td>\n",
       "    </tr>\n",
       "    <tr>\n",
       "      <th>SJSU</th>\n",
       "      <td>1</td>\n",
       "    </tr>\n",
       "    <tr>\n",
       "      <th>Seton Hall</th>\n",
       "      <td>1</td>\n",
       "    </tr>\n",
       "    <tr>\n",
       "      <th>Stan</th>\n",
       "      <td>7</td>\n",
       "    </tr>\n",
       "    <tr>\n",
       "      <th>TTU</th>\n",
       "      <td>1</td>\n",
       "    </tr>\n",
       "    <tr>\n",
       "      <th>UALR</th>\n",
       "      <td>1</td>\n",
       "    </tr>\n",
       "    <tr>\n",
       "      <th>UCLA</th>\n",
       "      <td>9</td>\n",
       "    </tr>\n",
       "    <tr>\n",
       "      <th>UCSB</th>\n",
       "      <td>1</td>\n",
       "    </tr>\n",
       "    <tr>\n",
       "      <th>UMBC</th>\n",
       "      <td>1</td>\n",
       "    </tr>\n",
       "    <tr>\n",
       "      <th>UNCC</th>\n",
       "      <td>1</td>\n",
       "    </tr>\n",
       "    <tr>\n",
       "      <th>UNCO</th>\n",
       "      <td>1</td>\n",
       "    </tr>\n",
       "    <tr>\n",
       "      <th>UNF</th>\n",
       "      <td>1</td>\n",
       "    </tr>\n",
       "    <tr>\n",
       "      <th>USC</th>\n",
       "      <td>9</td>\n",
       "    </tr>\n",
       "    <tr>\n",
       "      <th>UT</th>\n",
       "      <td>10</td>\n",
       "    </tr>\n",
       "    <tr>\n",
       "      <th>UWGB</th>\n",
       "      <td>1</td>\n",
       "    </tr>\n",
       "    <tr>\n",
       "      <th>W MI</th>\n",
       "      <td>1</td>\n",
       "    </tr>\n",
       "    <tr>\n",
       "      <th>WA</th>\n",
       "      <td>9</td>\n",
       "    </tr>\n",
       "    <tr>\n",
       "      <th>WA St</th>\n",
       "      <td>8</td>\n",
       "    </tr>\n",
       "    <tr>\n",
       "      <th>WSU</th>\n",
       "      <td>1</td>\n",
       "    </tr>\n",
       "    <tr>\n",
       "      <th>WY</th>\n",
       "      <td>2</td>\n",
       "    </tr>\n",
       "    <tr>\n",
       "      <th>Wake</th>\n",
       "      <td>1</td>\n",
       "    </tr>\n",
       "    <tr>\n",
       "      <th>Xavier</th>\n",
       "      <td>2</td>\n",
       "    </tr>\n",
       "  </tbody>\n",
       "</table>\n",
       "</div>"
      ],
      "text/plain": [
       "                   Number of Matches Played\n",
       "AZ                                       10\n",
       "AZ St                                    10\n",
       "Abilene Christian                         1\n",
       "Albany                                    1\n",
       "Baylor                                    1\n",
       "CO St                                     6\n",
       "CU                                      153\n",
       "Cal                                       9\n",
       "Campbell                                  1\n",
       "DU                                        1\n",
       "Den                                       1\n",
       "FIU                                       1\n",
       "GA                                        1\n",
       "IA                                        4\n",
       "IL                                        5\n",
       "IN St                                     1\n",
       "JMU                                       1\n",
       "LIU                                       1\n",
       "NC                                        1\n",
       "NE                                        1\n",
       "NSULA                                     1\n",
       "OK                                        2\n",
       "OR                                        9\n",
       "OR St                                     9\n",
       "ORU                                       1\n",
       "Oakland                                   1\n",
       "PA St                                     1\n",
       "Portland St                               1\n",
       "Rice                                      1\n",
       "SC                                        1\n",
       "SJSU                                      1\n",
       "Seton Hall                                1\n",
       "Stan                                      7\n",
       "TTU                                       1\n",
       "UALR                                      1\n",
       "UCLA                                      9\n",
       "UCSB                                      1\n",
       "UMBC                                      1\n",
       "UNCC                                      1\n",
       "UNCO                                      1\n",
       "UNF                                       1\n",
       "USC                                       9\n",
       "UT                                       10\n",
       "UWGB                                      1\n",
       "W MI                                      1\n",
       "WA                                        9\n",
       "WA St                                     8\n",
       "WSU                                       1\n",
       "WY                                        2\n",
       "Wake                                      1\n",
       "Xavier                                    2"
      ]
     },
     "execution_count": 76,
     "metadata": {},
     "output_type": "execute_result"
    }
   ],
   "source": [
    "u_v"
   ]
  },
  {
   "cell_type": "code",
   "execution_count": 77,
   "id": "b5639030",
   "metadata": {},
   "outputs": [],
   "source": [
    "teams_matches = u_v[u_v['Number of Matches Played'] > 1]"
   ]
  },
  {
   "cell_type": "code",
   "execution_count": 78,
   "id": "1a972816",
   "metadata": {},
   "outputs": [
    {
     "data": {
      "text/html": [
       "<div>\n",
       "<style scoped>\n",
       "    .dataframe tbody tr th:only-of-type {\n",
       "        vertical-align: middle;\n",
       "    }\n",
       "\n",
       "    .dataframe tbody tr th {\n",
       "        vertical-align: top;\n",
       "    }\n",
       "\n",
       "    .dataframe thead th {\n",
       "        text-align: right;\n",
       "    }\n",
       "</style>\n",
       "<table border=\"1\" class=\"dataframe\">\n",
       "  <thead>\n",
       "    <tr style=\"text-align: right;\">\n",
       "      <th></th>\n",
       "      <th>Number of Matches Played</th>\n",
       "    </tr>\n",
       "  </thead>\n",
       "  <tbody>\n",
       "    <tr>\n",
       "      <th>AZ</th>\n",
       "      <td>10</td>\n",
       "    </tr>\n",
       "    <tr>\n",
       "      <th>AZ St</th>\n",
       "      <td>10</td>\n",
       "    </tr>\n",
       "    <tr>\n",
       "      <th>CO St</th>\n",
       "      <td>6</td>\n",
       "    </tr>\n",
       "    <tr>\n",
       "      <th>CU</th>\n",
       "      <td>153</td>\n",
       "    </tr>\n",
       "    <tr>\n",
       "      <th>Cal</th>\n",
       "      <td>9</td>\n",
       "    </tr>\n",
       "    <tr>\n",
       "      <th>IA</th>\n",
       "      <td>4</td>\n",
       "    </tr>\n",
       "    <tr>\n",
       "      <th>IL</th>\n",
       "      <td>5</td>\n",
       "    </tr>\n",
       "    <tr>\n",
       "      <th>OK</th>\n",
       "      <td>2</td>\n",
       "    </tr>\n",
       "    <tr>\n",
       "      <th>OR</th>\n",
       "      <td>9</td>\n",
       "    </tr>\n",
       "    <tr>\n",
       "      <th>OR St</th>\n",
       "      <td>9</td>\n",
       "    </tr>\n",
       "    <tr>\n",
       "      <th>Stan</th>\n",
       "      <td>7</td>\n",
       "    </tr>\n",
       "    <tr>\n",
       "      <th>UCLA</th>\n",
       "      <td>9</td>\n",
       "    </tr>\n",
       "    <tr>\n",
       "      <th>USC</th>\n",
       "      <td>9</td>\n",
       "    </tr>\n",
       "    <tr>\n",
       "      <th>UT</th>\n",
       "      <td>10</td>\n",
       "    </tr>\n",
       "    <tr>\n",
       "      <th>WA</th>\n",
       "      <td>9</td>\n",
       "    </tr>\n",
       "    <tr>\n",
       "      <th>WA St</th>\n",
       "      <td>8</td>\n",
       "    </tr>\n",
       "    <tr>\n",
       "      <th>WY</th>\n",
       "      <td>2</td>\n",
       "    </tr>\n",
       "    <tr>\n",
       "      <th>Xavier</th>\n",
       "      <td>2</td>\n",
       "    </tr>\n",
       "  </tbody>\n",
       "</table>\n",
       "</div>"
      ],
      "text/plain": [
       "        Number of Matches Played\n",
       "AZ                            10\n",
       "AZ St                         10\n",
       "CO St                          6\n",
       "CU                           153\n",
       "Cal                            9\n",
       "IA                             4\n",
       "IL                             5\n",
       "OK                             2\n",
       "OR                             9\n",
       "OR St                          9\n",
       "Stan                           7\n",
       "UCLA                           9\n",
       "USC                            9\n",
       "UT                            10\n",
       "WA                             9\n",
       "WA St                          8\n",
       "WY                             2\n",
       "Xavier                         2"
      ]
     },
     "execution_count": 78,
     "metadata": {},
     "output_type": "execute_result"
    }
   ],
   "source": [
    "teams_matches"
   ]
  },
  {
   "cell_type": "code",
   "execution_count": 79,
   "id": "a06d0b77",
   "metadata": {},
   "outputs": [
    {
     "data": {
      "text/plain": [
       "['AZ',\n",
       " 'AZ St',\n",
       " 'CO St',\n",
       " 'CU',\n",
       " 'Cal',\n",
       " 'IA',\n",
       " 'IL',\n",
       " 'OK',\n",
       " 'OR',\n",
       " 'OR St',\n",
       " 'Stan',\n",
       " 'UCLA',\n",
       " 'USC',\n",
       " 'UT',\n",
       " 'WA',\n",
       " 'WA St',\n",
       " 'WY',\n",
       " 'Xavier']"
      ]
     },
     "execution_count": 79,
     "metadata": {},
     "output_type": "execute_result"
    }
   ],
   "source": [
    "teams_list2 = teams_matches.index.tolist()\n",
    "teams_list2"
   ]
  },
  {
   "cell_type": "code",
   "execution_count": 80,
   "id": "06b04eff",
   "metadata": {},
   "outputs": [],
   "source": [
    "# Now loop through this dataframe and calculate an average winning score.\n",
    "\n",
    "winning_percentage = {}\n",
    "\n",
    "for team in teams_list2:\n",
    "    \n",
    "    team_df = all_matches[all_matches['team'] == team]\n",
    "    \n",
    "    percent_won = (team_df['won_match'] == True).sum()\n",
    "    tot_percent = (team_df['won_match'] == True).sum() + (team_df['won_match'] == False).sum() + (team_df['won_match'] == 'nan').sum()\n",
    "    \n",
    "    if percent_won == 0:\n",
    "        win_perc = 0\n",
    "    else:\n",
    "        win_perc = int(percent_won) / int(tot_percent)\n",
    "    \n",
    "\n",
    "    winning_percentage[team] = win_perc\n",
    "    \n",
    "    \n",
    "    "
   ]
  },
  {
   "cell_type": "code",
   "execution_count": 81,
   "id": "b4bade69",
   "metadata": {},
   "outputs": [
    {
     "data": {
      "text/plain": [
       "{'AZ': 0.6988839028880451,\n",
       " 'AZ St': 0.3471551419484038,\n",
       " 'CO St': 0.2940708316752885,\n",
       " 'CU': 0.5445432329013795,\n",
       " 'Cal': 0.1663013698630137,\n",
       " 'IA': 0,\n",
       " 'IL': 0.16206896551724137,\n",
       " 'OK': 0,\n",
       " 'OR': 0.56690181565861,\n",
       " 'OR St': 0.10872362326299537,\n",
       " 'Stan': 1.0,\n",
       " 'UCLA': 0.6571387737601829,\n",
       " 'USC': 0.8115032679738562,\n",
       " 'UT': 0.6738814993954051,\n",
       " 'WA': 0.7852156057494867,\n",
       " 'WA St': 0.8987243310516491,\n",
       " 'WY': 0.5988023952095808,\n",
       " 'Xavier': 0}"
      ]
     },
     "execution_count": 81,
     "metadata": {},
     "output_type": "execute_result"
    }
   ],
   "source": [
    "winning_percentage"
   ]
  },
  {
   "cell_type": "markdown",
   "id": "52d94e71",
   "metadata": {},
   "source": [
    "The below codes are checking the teams with zero and one as their percentages:"
   ]
  },
  {
   "cell_type": "code",
   "execution_count": 82,
   "id": "e0781c38",
   "metadata": {},
   "outputs": [],
   "source": [
    "IA_df = all_matches[all_matches['team'] == 'IA']"
   ]
  },
  {
   "cell_type": "code",
   "execution_count": 83,
   "id": "da97644b",
   "metadata": {},
   "outputs": [
    {
     "data": {
      "text/html": [
       "<div>\n",
       "<style scoped>\n",
       "    .dataframe tbody tr th:only-of-type {\n",
       "        vertical-align: middle;\n",
       "    }\n",
       "\n",
       "    .dataframe tbody tr th {\n",
       "        vertical-align: top;\n",
       "    }\n",
       "\n",
       "    .dataframe thead th {\n",
       "        text-align: right;\n",
       "    }\n",
       "</style>\n",
       "<table border=\"1\" class=\"dataframe\">\n",
       "  <thead>\n",
       "    <tr style=\"text-align: right;\">\n",
       "      <th></th>\n",
       "      <th>Unnamed: 0</th>\n",
       "      <th>column_label</th>\n",
       "      <th>match_id</th>\n",
       "      <th>point_id</th>\n",
       "      <th>team</th>\n",
       "      <th>player_number</th>\n",
       "      <th>player_name</th>\n",
       "      <th>player_id</th>\n",
       "      <th>skill</th>\n",
       "      <th>skill_type</th>\n",
       "      <th>...</th>\n",
       "      <th>home_team_won</th>\n",
       "      <th>opponent_team_won</th>\n",
       "      <th>won_match</th>\n",
       "      <th>date</th>\n",
       "      <th>season</th>\n",
       "      <th>player_position</th>\n",
       "      <th>next_player_position</th>\n",
       "      <th>file_name</th>\n",
       "      <th>match_set</th>\n",
       "      <th>type_group</th>\n",
       "    </tr>\n",
       "  </thead>\n",
       "  <tbody>\n",
       "  </tbody>\n",
       "</table>\n",
       "<p>0 rows × 125 columns</p>\n",
       "</div>"
      ],
      "text/plain": [
       "Empty DataFrame\n",
       "Columns: [Unnamed: 0, column_label, match_id, point_id, team, player_number, player_name, player_id, skill, skill_type, evaluation_code, evaluation, attack_code, attack_description, set_code, set_description, set_type, start_zone, end_zone, end_subzone, end_cone, skill_subtype, num_players, num_players_numeric, special_code, timeout, end_of_set, substitution, point, home_team_score, visiting_team_score, home_setter_position, visiting_setter_position, custom_code, start_coordinate, mid_coordinate, end_coordinate, start_coordinate_x, start_coordinate_y, mid_coordinate_x, mid_coordinate_y, end_coordinate_x, end_coordinate_y, home_player_id1, home_player_id2, home_player_id3, home_player_id4, home_player_id5, home_player_id6, visiting_player_id1, visiting_player_id2, visiting_player_id3, visiting_player_id4, visiting_player_id5, visiting_player_id6, set_number, home_team, visiting_team, home_team_id, visiting_team_id, team_id, point_won_by, winning_attack, serving_team, phase, home_score_start_of_point, visiting_score_start_of_point, id_master, opponent, team_score, opponent_score, team_rotation, opp_rotation, score_diff, crunch_zone, reception_team, bp, so, prevskill, prevskilleval, prev2skill, prev2skilleval, prev3skill, prev3skilleval, nextskill, nextplayername, nextplayernum, nextskilleval, next2skill, next2skilleval, next3skill, next3skilleval, prevplayername, prev2playername, prev_team, prev2_team, fb, fb_s, passandhit, attack_name, ...]\n",
       "Index: []\n",
       "\n",
       "[0 rows x 125 columns]"
      ]
     },
     "execution_count": 83,
     "metadata": {},
     "output_type": "execute_result"
    }
   ],
   "source": [
    "IA_df[IA_df['won_match'] == True]"
   ]
  },
  {
   "cell_type": "code",
   "execution_count": 84,
   "id": "c28ce5a2",
   "metadata": {},
   "outputs": [],
   "source": [
    "OK_df = all_matches[all_matches['team'] == 'OK']"
   ]
  },
  {
   "cell_type": "code",
   "execution_count": 85,
   "id": "d3541802",
   "metadata": {},
   "outputs": [
    {
     "data": {
      "text/html": [
       "<div>\n",
       "<style scoped>\n",
       "    .dataframe tbody tr th:only-of-type {\n",
       "        vertical-align: middle;\n",
       "    }\n",
       "\n",
       "    .dataframe tbody tr th {\n",
       "        vertical-align: top;\n",
       "    }\n",
       "\n",
       "    .dataframe thead th {\n",
       "        text-align: right;\n",
       "    }\n",
       "</style>\n",
       "<table border=\"1\" class=\"dataframe\">\n",
       "  <thead>\n",
       "    <tr style=\"text-align: right;\">\n",
       "      <th></th>\n",
       "      <th>Unnamed: 0</th>\n",
       "      <th>column_label</th>\n",
       "      <th>match_id</th>\n",
       "      <th>point_id</th>\n",
       "      <th>team</th>\n",
       "      <th>player_number</th>\n",
       "      <th>player_name</th>\n",
       "      <th>player_id</th>\n",
       "      <th>skill</th>\n",
       "      <th>skill_type</th>\n",
       "      <th>...</th>\n",
       "      <th>home_team_won</th>\n",
       "      <th>opponent_team_won</th>\n",
       "      <th>won_match</th>\n",
       "      <th>date</th>\n",
       "      <th>season</th>\n",
       "      <th>player_position</th>\n",
       "      <th>next_player_position</th>\n",
       "      <th>file_name</th>\n",
       "      <th>match_set</th>\n",
       "      <th>type_group</th>\n",
       "    </tr>\n",
       "  </thead>\n",
       "  <tbody>\n",
       "  </tbody>\n",
       "</table>\n",
       "<p>0 rows × 125 columns</p>\n",
       "</div>"
      ],
      "text/plain": [
       "Empty DataFrame\n",
       "Columns: [Unnamed: 0, column_label, match_id, point_id, team, player_number, player_name, player_id, skill, skill_type, evaluation_code, evaluation, attack_code, attack_description, set_code, set_description, set_type, start_zone, end_zone, end_subzone, end_cone, skill_subtype, num_players, num_players_numeric, special_code, timeout, end_of_set, substitution, point, home_team_score, visiting_team_score, home_setter_position, visiting_setter_position, custom_code, start_coordinate, mid_coordinate, end_coordinate, start_coordinate_x, start_coordinate_y, mid_coordinate_x, mid_coordinate_y, end_coordinate_x, end_coordinate_y, home_player_id1, home_player_id2, home_player_id3, home_player_id4, home_player_id5, home_player_id6, visiting_player_id1, visiting_player_id2, visiting_player_id3, visiting_player_id4, visiting_player_id5, visiting_player_id6, set_number, home_team, visiting_team, home_team_id, visiting_team_id, team_id, point_won_by, winning_attack, serving_team, phase, home_score_start_of_point, visiting_score_start_of_point, id_master, opponent, team_score, opponent_score, team_rotation, opp_rotation, score_diff, crunch_zone, reception_team, bp, so, prevskill, prevskilleval, prev2skill, prev2skilleval, prev3skill, prev3skilleval, nextskill, nextplayername, nextplayernum, nextskilleval, next2skill, next2skilleval, next3skill, next3skilleval, prevplayername, prev2playername, prev_team, prev2_team, fb, fb_s, passandhit, attack_name, ...]\n",
       "Index: []\n",
       "\n",
       "[0 rows x 125 columns]"
      ]
     },
     "execution_count": 85,
     "metadata": {},
     "output_type": "execute_result"
    }
   ],
   "source": [
    "OK_df[OK_df['won_match'] == True]"
   ]
  },
  {
   "cell_type": "code",
   "execution_count": 86,
   "id": "526d7700",
   "metadata": {},
   "outputs": [],
   "source": [
    "X_df = all_matches[all_matches['team'] == 'Xavier']"
   ]
  },
  {
   "cell_type": "code",
   "execution_count": 87,
   "id": "5a2c8896",
   "metadata": {},
   "outputs": [
    {
     "data": {
      "text/html": [
       "<div>\n",
       "<style scoped>\n",
       "    .dataframe tbody tr th:only-of-type {\n",
       "        vertical-align: middle;\n",
       "    }\n",
       "\n",
       "    .dataframe tbody tr th {\n",
       "        vertical-align: top;\n",
       "    }\n",
       "\n",
       "    .dataframe thead th {\n",
       "        text-align: right;\n",
       "    }\n",
       "</style>\n",
       "<table border=\"1\" class=\"dataframe\">\n",
       "  <thead>\n",
       "    <tr style=\"text-align: right;\">\n",
       "      <th></th>\n",
       "      <th>Unnamed: 0</th>\n",
       "      <th>column_label</th>\n",
       "      <th>match_id</th>\n",
       "      <th>point_id</th>\n",
       "      <th>team</th>\n",
       "      <th>player_number</th>\n",
       "      <th>player_name</th>\n",
       "      <th>player_id</th>\n",
       "      <th>skill</th>\n",
       "      <th>skill_type</th>\n",
       "      <th>...</th>\n",
       "      <th>home_team_won</th>\n",
       "      <th>opponent_team_won</th>\n",
       "      <th>won_match</th>\n",
       "      <th>date</th>\n",
       "      <th>season</th>\n",
       "      <th>player_position</th>\n",
       "      <th>next_player_position</th>\n",
       "      <th>file_name</th>\n",
       "      <th>match_set</th>\n",
       "      <th>type_group</th>\n",
       "    </tr>\n",
       "  </thead>\n",
       "  <tbody>\n",
       "  </tbody>\n",
       "</table>\n",
       "<p>0 rows × 125 columns</p>\n",
       "</div>"
      ],
      "text/plain": [
       "Empty DataFrame\n",
       "Columns: [Unnamed: 0, column_label, match_id, point_id, team, player_number, player_name, player_id, skill, skill_type, evaluation_code, evaluation, attack_code, attack_description, set_code, set_description, set_type, start_zone, end_zone, end_subzone, end_cone, skill_subtype, num_players, num_players_numeric, special_code, timeout, end_of_set, substitution, point, home_team_score, visiting_team_score, home_setter_position, visiting_setter_position, custom_code, start_coordinate, mid_coordinate, end_coordinate, start_coordinate_x, start_coordinate_y, mid_coordinate_x, mid_coordinate_y, end_coordinate_x, end_coordinate_y, home_player_id1, home_player_id2, home_player_id3, home_player_id4, home_player_id5, home_player_id6, visiting_player_id1, visiting_player_id2, visiting_player_id3, visiting_player_id4, visiting_player_id5, visiting_player_id6, set_number, home_team, visiting_team, home_team_id, visiting_team_id, team_id, point_won_by, winning_attack, serving_team, phase, home_score_start_of_point, visiting_score_start_of_point, id_master, opponent, team_score, opponent_score, team_rotation, opp_rotation, score_diff, crunch_zone, reception_team, bp, so, prevskill, prevskilleval, prev2skill, prev2skilleval, prev3skill, prev3skilleval, nextskill, nextplayername, nextplayernum, nextskilleval, next2skill, next2skilleval, next3skill, next3skilleval, prevplayername, prev2playername, prev_team, prev2_team, fb, fb_s, passandhit, attack_name, ...]\n",
       "Index: []\n",
       "\n",
       "[0 rows x 125 columns]"
      ]
     },
     "execution_count": 87,
     "metadata": {},
     "output_type": "execute_result"
    }
   ],
   "source": [
    "X_df[X_df['won_match'] == True]"
   ]
  },
  {
   "cell_type": "code",
   "execution_count": 88,
   "id": "46f75ef6",
   "metadata": {},
   "outputs": [],
   "source": [
    "Stan_df = all_matches[all_matches['team'] == 'Stan']"
   ]
  },
  {
   "cell_type": "code",
   "execution_count": 89,
   "id": "211c0337",
   "metadata": {},
   "outputs": [
    {
     "data": {
      "text/html": [
       "<div>\n",
       "<style scoped>\n",
       "    .dataframe tbody tr th:only-of-type {\n",
       "        vertical-align: middle;\n",
       "    }\n",
       "\n",
       "    .dataframe tbody tr th {\n",
       "        vertical-align: top;\n",
       "    }\n",
       "\n",
       "    .dataframe thead th {\n",
       "        text-align: right;\n",
       "    }\n",
       "</style>\n",
       "<table border=\"1\" class=\"dataframe\">\n",
       "  <thead>\n",
       "    <tr style=\"text-align: right;\">\n",
       "      <th></th>\n",
       "      <th>Unnamed: 0</th>\n",
       "      <th>column_label</th>\n",
       "      <th>match_id</th>\n",
       "      <th>point_id</th>\n",
       "      <th>team</th>\n",
       "      <th>player_number</th>\n",
       "      <th>player_name</th>\n",
       "      <th>player_id</th>\n",
       "      <th>skill</th>\n",
       "      <th>skill_type</th>\n",
       "      <th>...</th>\n",
       "      <th>home_team_won</th>\n",
       "      <th>opponent_team_won</th>\n",
       "      <th>won_match</th>\n",
       "      <th>date</th>\n",
       "      <th>season</th>\n",
       "      <th>player_position</th>\n",
       "      <th>next_player_position</th>\n",
       "      <th>file_name</th>\n",
       "      <th>match_set</th>\n",
       "      <th>type_group</th>\n",
       "    </tr>\n",
       "  </thead>\n",
       "  <tbody>\n",
       "  </tbody>\n",
       "</table>\n",
       "<p>0 rows × 125 columns</p>\n",
       "</div>"
      ],
      "text/plain": [
       "Empty DataFrame\n",
       "Columns: [Unnamed: 0, column_label, match_id, point_id, team, player_number, player_name, player_id, skill, skill_type, evaluation_code, evaluation, attack_code, attack_description, set_code, set_description, set_type, start_zone, end_zone, end_subzone, end_cone, skill_subtype, num_players, num_players_numeric, special_code, timeout, end_of_set, substitution, point, home_team_score, visiting_team_score, home_setter_position, visiting_setter_position, custom_code, start_coordinate, mid_coordinate, end_coordinate, start_coordinate_x, start_coordinate_y, mid_coordinate_x, mid_coordinate_y, end_coordinate_x, end_coordinate_y, home_player_id1, home_player_id2, home_player_id3, home_player_id4, home_player_id5, home_player_id6, visiting_player_id1, visiting_player_id2, visiting_player_id3, visiting_player_id4, visiting_player_id5, visiting_player_id6, set_number, home_team, visiting_team, home_team_id, visiting_team_id, team_id, point_won_by, winning_attack, serving_team, phase, home_score_start_of_point, visiting_score_start_of_point, id_master, opponent, team_score, opponent_score, team_rotation, opp_rotation, score_diff, crunch_zone, reception_team, bp, so, prevskill, prevskilleval, prev2skill, prev2skilleval, prev3skill, prev3skilleval, nextskill, nextplayername, nextplayernum, nextskilleval, next2skill, next2skilleval, next3skill, next3skilleval, prevplayername, prev2playername, prev_team, prev2_team, fb, fb_s, passandhit, attack_name, ...]\n",
       "Index: []\n",
       "\n",
       "[0 rows x 125 columns]"
      ]
     },
     "execution_count": 89,
     "metadata": {},
     "output_type": "execute_result"
    }
   ],
   "source": [
    "Stan_df[Stan_df['won_match'] == False]"
   ]
  },
  {
   "cell_type": "code",
   "execution_count": 90,
   "id": "b90192f3",
   "metadata": {},
   "outputs": [],
   "source": [
    "_df = all_matches[all_matches['team'] == 'OK']"
   ]
  },
  {
   "cell_type": "code",
   "execution_count": 91,
   "id": "cf78dad3",
   "metadata": {},
   "outputs": [
    {
     "name": "stdout",
     "output_type": "stream",
     "text": [
      "        Matches Won\n",
      "AZ         0.698884\n",
      "AZ St      0.347155\n",
      "CO St      0.294071\n",
      "CU         0.544543\n",
      "Cal        0.166301\n",
      "IA         0.000000\n",
      "IL         0.162069\n",
      "OK         0.000000\n",
      "OR         0.566902\n",
      "OR St      0.108724\n",
      "Stan       1.000000\n",
      "UCLA       0.657139\n",
      "USC        0.811503\n",
      "UT         0.673881\n",
      "WA         0.785216\n",
      "WA St      0.898724\n",
      "WY         0.598802\n",
      "Xavier     0.000000\n"
     ]
    }
   ],
   "source": [
    "# Putting the winning percentages into a dataframe\n",
    "\n",
    "winning_percent = pd.DataFrame.from_dict(winning_percentage, orient = 'index', columns = ['Matches Won'])\n",
    "print(winning_percent)\n"
   ]
  },
  {
   "cell_type": "code",
   "execution_count": 92,
   "id": "a2f76e7d",
   "metadata": {},
   "outputs": [],
   "source": [
    "winning_percent.to_csv('Win_Percentage', index=True, sep='\\t')"
   ]
  },
  {
   "cell_type": "code",
   "execution_count": 93,
   "id": "be89a37a",
   "metadata": {},
   "outputs": [],
   "source": [
    "# Now loop through this dataframe and calculate an average winning score (For sets)\n",
    "\n",
    "winning_percentage_sets = {}\n",
    "\n",
    "for team in teams_list2:\n",
    "    \n",
    "    team_df = all_matches[all_matches['team'] == team]\n",
    "    \n",
    "    percent_won = (team_df['won_set'] == True).sum()\n",
    "    tot_percent = (team_df['won_set'] == True).sum() + (team_df['won_set'] == False).sum() + (team_df['won_set'] == 'nan').sum()\n",
    "    \n",
    "    if percent_won == 0:\n",
    "        win_perc = 0\n",
    "    else:\n",
    "        win_perc = int(percent_won) / int(tot_percent)\n",
    "    \n",
    "\n",
    "    winning_percentage_sets[team] = win_perc\n",
    "    \n",
    "    \n",
    "    "
   ]
  },
  {
   "cell_type": "code",
   "execution_count": 94,
   "id": "077e2f9c",
   "metadata": {},
   "outputs": [
    {
     "data": {
      "text/plain": [
       "{'AZ': 0.657691865147854,\n",
       " 'AZ St': 0.38320179055247966,\n",
       " 'CO St': 0.3967369677676084,\n",
       " 'CU': 0.5450416412103283,\n",
       " 'Cal': 0.2534246575342466,\n",
       " 'IA': 0.1662847790507365,\n",
       " 'IL': 0.38201970443349753,\n",
       " 'OK': 0.16096139839766935,\n",
       " 'OR': 0.5614664045333642,\n",
       " 'OR St': 0.2923314462171899,\n",
       " 'Stan': 0.7717528373266078,\n",
       " 'UCLA': 0.6032585393740174,\n",
       " 'USC': 0.5955555555555555,\n",
       " 'UT': 0.6701330108827086,\n",
       " 'WA': 0.6621492128678987,\n",
       " 'WA St': 0.7269757311761046,\n",
       " 'WY': 0.3437125748502994,\n",
       " 'Xavier': 0.2744479495268139}"
      ]
     },
     "execution_count": 94,
     "metadata": {},
     "output_type": "execute_result"
    }
   ],
   "source": [
    "winning_percentage_sets"
   ]
  },
  {
   "cell_type": "code",
   "execution_count": 95,
   "id": "6cc856df",
   "metadata": {},
   "outputs": [],
   "source": [
    "# Putting the winning percentages into a dataframe\n",
    "\n",
    "winning_percent_set = pd.DataFrame.from_dict(winning_percentage_sets, orient = 'index', columns = ['Sets Won'])\n"
   ]
  },
  {
   "cell_type": "code",
   "execution_count": 96,
   "id": "76848e93",
   "metadata": {},
   "outputs": [],
   "source": [
    "winning_percent_set.to_csv('Win_Percentage_Sets', index=True, sep='\\t')"
   ]
  },
  {
   "cell_type": "code",
   "execution_count": 97,
   "id": "1e24b0c2",
   "metadata": {},
   "outputs": [],
   "source": [
    "# Counting the number of receptions for every Outside Hitter\n",
    "\n",
    "num_receps = {}\n",
    "\n",
    "for player, percent in left_percentages2.items():\n",
    "    player_df = all_matches[all_matches['player_name'] == player]\n",
    "    \n",
    "    sum_reps = (player_df['skill'] == 'Reception').sum()\n",
    "    \n",
    "    num_receps[player] = sum_reps"
   ]
  },
  {
   "cell_type": "code",
   "execution_count": 98,
   "id": "2e7db3dd",
   "metadata": {},
   "outputs": [],
   "source": [
    "#num_receps"
   ]
  },
  {
   "cell_type": "code",
   "execution_count": 2,
   "id": "959487b6",
   "metadata": {},
   "outputs": [
    {
     "ename": "NameError",
     "evalue": "name 'num_receps' is not defined",
     "output_type": "error",
     "traceback": [
      "\u001b[0;31m---------------------------------------------------------------------------\u001b[0m",
      "\u001b[0;31mNameError\u001b[0m                                 Traceback (most recent call last)",
      "\u001b[0;32m<ipython-input-2-6866c3ebe05d>\u001b[0m in \u001b[0;36m<module>\u001b[0;34m\u001b[0m\n\u001b[1;32m      1\u001b[0m \u001b[0;31m# Putting the number of receptions into a dataframe\u001b[0m\u001b[0;34m\u001b[0m\u001b[0;34m\u001b[0m\u001b[0;34m\u001b[0m\u001b[0m\n\u001b[1;32m      2\u001b[0m \u001b[0;34m\u001b[0m\u001b[0m\n\u001b[0;32m----> 3\u001b[0;31m \u001b[0mnum_receps\u001b[0m \u001b[0;34m=\u001b[0m \u001b[0mpd\u001b[0m\u001b[0;34m.\u001b[0m\u001b[0mDataFrame\u001b[0m\u001b[0;34m.\u001b[0m\u001b[0mfrom_dict\u001b[0m\u001b[0;34m(\u001b[0m\u001b[0mnum_receps\u001b[0m\u001b[0;34m,\u001b[0m \u001b[0morient\u001b[0m \u001b[0;34m=\u001b[0m \u001b[0;34m'index'\u001b[0m\u001b[0;34m,\u001b[0m \u001b[0mcolumns\u001b[0m \u001b[0;34m=\u001b[0m \u001b[0;34m[\u001b[0m\u001b[0;34m'Number of Receptions'\u001b[0m\u001b[0;34m]\u001b[0m \u001b[0;34m)\u001b[0m\u001b[0;34m\u001b[0m\u001b[0;34m\u001b[0m\u001b[0m\n\u001b[0m\u001b[1;32m      4\u001b[0m \u001b[0;34m\u001b[0m\u001b[0m\n",
      "\u001b[0;31mNameError\u001b[0m: name 'num_receps' is not defined"
     ]
    }
   ],
   "source": [
    "# Putting the number of receptions into a dataframe\n",
    "\n",
    "num_receps = pd.DataFrame.from_dict(num_receps, orient = 'index', columns = ['Number of Receptions'] )\n",
    "\n"
   ]
  },
  {
   "cell_type": "code",
   "execution_count": 100,
   "id": "55688465",
   "metadata": {},
   "outputs": [],
   "source": [
    "# Calculating the percentage of receptions that OH's are responsible for each team\n",
    "\n",
    "receptions_by_OH = {}\n",
    "\n",
    "for team in teams_list2:\n",
    "    team_df = all_matches[all_matches['team'] == team]\n",
    "    filtered_df = team_df[(team_df['player_position'] == 'OH') & (team_df['skill'] == 'Reception')]\n",
    "    total_receps = len(team_df[team_df['skill'] == 'Reception'])\n",
    "    OH_receps = len(filtered_df)\n",
    "    percentage = OH_receps / total_receps\n",
    "    receptions_by_OH[team] = percentage\n",
    "    "
   ]
  },
  {
   "cell_type": "code",
   "execution_count": 101,
   "id": "d371fecc",
   "metadata": {},
   "outputs": [
    {
     "data": {
      "text/plain": [
       "{'AZ': 0.48148148148148145,\n",
       " 'AZ St': 0.48427672955974843,\n",
       " 'CO St': 0.34243697478991597,\n",
       " 'CU': 0.6345812633073101,\n",
       " 'Cal': 0.35080645161290325,\n",
       " 'IA': 0.4185303514376997,\n",
       " 'IL': 0.32653061224489793,\n",
       " 'OK': 0.515527950310559,\n",
       " 'OR': 0.6008064516129032,\n",
       " 'OR St': 0.48344370860927155,\n",
       " 'Stan': 0.4607218683651805,\n",
       " 'UCLA': 0.6644628099173554,\n",
       " 'USC': 0.5315186246418339,\n",
       " 'UT': 0.5363881401617251,\n",
       " 'WA': 0.4121212121212121,\n",
       " 'WA St': 0.4826388888888889,\n",
       " 'WY': 0.3988439306358382,\n",
       " 'Xavier': 0.603448275862069}"
      ]
     },
     "execution_count": 101,
     "metadata": {},
     "output_type": "execute_result"
    }
   ],
   "source": [
    "receptions_by_OH"
   ]
  },
  {
   "cell_type": "code",
   "execution_count": 102,
   "id": "d81f7207",
   "metadata": {},
   "outputs": [
    {
     "data": {
      "text/html": [
       "<div>\n",
       "<style scoped>\n",
       "    .dataframe tbody tr th:only-of-type {\n",
       "        vertical-align: middle;\n",
       "    }\n",
       "\n",
       "    .dataframe tbody tr th {\n",
       "        vertical-align: top;\n",
       "    }\n",
       "\n",
       "    .dataframe thead th {\n",
       "        text-align: right;\n",
       "    }\n",
       "</style>\n",
       "<table border=\"1\" class=\"dataframe\">\n",
       "  <thead>\n",
       "    <tr style=\"text-align: right;\">\n",
       "      <th></th>\n",
       "      <th>Percent Receptions by OH</th>\n",
       "    </tr>\n",
       "  </thead>\n",
       "  <tbody>\n",
       "    <tr>\n",
       "      <th>AZ</th>\n",
       "      <td>0.481481</td>\n",
       "    </tr>\n",
       "    <tr>\n",
       "      <th>AZ St</th>\n",
       "      <td>0.484277</td>\n",
       "    </tr>\n",
       "    <tr>\n",
       "      <th>CO St</th>\n",
       "      <td>0.342437</td>\n",
       "    </tr>\n",
       "    <tr>\n",
       "      <th>CU</th>\n",
       "      <td>0.634581</td>\n",
       "    </tr>\n",
       "    <tr>\n",
       "      <th>Cal</th>\n",
       "      <td>0.350806</td>\n",
       "    </tr>\n",
       "    <tr>\n",
       "      <th>IA</th>\n",
       "      <td>0.418530</td>\n",
       "    </tr>\n",
       "    <tr>\n",
       "      <th>IL</th>\n",
       "      <td>0.326531</td>\n",
       "    </tr>\n",
       "    <tr>\n",
       "      <th>OK</th>\n",
       "      <td>0.515528</td>\n",
       "    </tr>\n",
       "    <tr>\n",
       "      <th>OR</th>\n",
       "      <td>0.600806</td>\n",
       "    </tr>\n",
       "    <tr>\n",
       "      <th>OR St</th>\n",
       "      <td>0.483444</td>\n",
       "    </tr>\n",
       "    <tr>\n",
       "      <th>Stan</th>\n",
       "      <td>0.460722</td>\n",
       "    </tr>\n",
       "    <tr>\n",
       "      <th>UCLA</th>\n",
       "      <td>0.664463</td>\n",
       "    </tr>\n",
       "    <tr>\n",
       "      <th>USC</th>\n",
       "      <td>0.531519</td>\n",
       "    </tr>\n",
       "    <tr>\n",
       "      <th>UT</th>\n",
       "      <td>0.536388</td>\n",
       "    </tr>\n",
       "    <tr>\n",
       "      <th>WA</th>\n",
       "      <td>0.412121</td>\n",
       "    </tr>\n",
       "    <tr>\n",
       "      <th>WA St</th>\n",
       "      <td>0.482639</td>\n",
       "    </tr>\n",
       "    <tr>\n",
       "      <th>WY</th>\n",
       "      <td>0.398844</td>\n",
       "    </tr>\n",
       "    <tr>\n",
       "      <th>Xavier</th>\n",
       "      <td>0.603448</td>\n",
       "    </tr>\n",
       "  </tbody>\n",
       "</table>\n",
       "</div>"
      ],
      "text/plain": [
       "        Percent Receptions by OH\n",
       "AZ                      0.481481\n",
       "AZ St                   0.484277\n",
       "CO St                   0.342437\n",
       "CU                      0.634581\n",
       "Cal                     0.350806\n",
       "IA                      0.418530\n",
       "IL                      0.326531\n",
       "OK                      0.515528\n",
       "OR                      0.600806\n",
       "OR St                   0.483444\n",
       "Stan                    0.460722\n",
       "UCLA                    0.664463\n",
       "USC                     0.531519\n",
       "UT                      0.536388\n",
       "WA                      0.412121\n",
       "WA St                   0.482639\n",
       "WY                      0.398844\n",
       "Xavier                  0.603448"
      ]
     },
     "execution_count": 102,
     "metadata": {},
     "output_type": "execute_result"
    }
   ],
   "source": [
    "Receptions_by_OH = pd.DataFrame.from_dict(receptions_by_OH, orient = 'index', columns = ['Percent Receptions by OH'])\n",
    "\n",
    "Receptions_by_OH\n"
   ]
  },
  {
   "cell_type": "code",
   "execution_count": 103,
   "id": "e2b3506c",
   "metadata": {},
   "outputs": [],
   "source": [
    "Receptions_by_OH.to_csv('Receptions_by_OH', index=True, sep='\\t')"
   ]
  },
  {
   "cell_type": "code",
   "execution_count": 104,
   "id": "350a3e03",
   "metadata": {},
   "outputs": [],
   "source": [
    "receptions = {}\n",
    "\n",
    "winning_match = {}\n",
    "\n",
    "winning_set = {}\n",
    "\n",
    "\n",
    "for match in all_matches['match_id'].unique():\n",
    "    \n",
    "    match_df = all_matches[all_matches['match_id'] == match]\n",
    "    \n",
    "    OH_df = match_df[match_df['player_position'] == 'OH']\n",
    "    \n",
    "    for set_num in range(1, 6):\n",
    "    \n",
    "        set_df = OH_df[OH_df['set_number'] == set_num]\n",
    "    \n",
    "        percentage = set_df.loc[set_df['skill'] == 'Reception', 'skill'].count() / len(set_df)\n",
    "        \n",
    "        won_match = set_df['point'].tolist()\n",
    "        won_set = set_df['won_set'].tolist()\n",
    "    \n",
    "        receptions[(match, set_num)] = percentage\n",
    "        \n",
    "        winning_match[(match, set_num)] = won_match\n",
    "        \n",
    "        winning_set[(match, set_num)] = won_set\n",
    "\n",
    "\n",
    "\n",
    "\n",
    "\n",
    "\n"
   ]
  },
  {
   "cell_type": "code",
   "execution_count": 105,
   "id": "3c63edf1",
   "metadata": {},
   "outputs": [],
   "source": [
    "#winning_match"
   ]
  },
  {
   "cell_type": "code",
   "execution_count": 106,
   "id": "b39c18bd",
   "metadata": {},
   "outputs": [
    {
     "data": {
      "text/plain": [
       "765"
      ]
     },
     "execution_count": 106,
     "metadata": {},
     "output_type": "execute_result"
    }
   ],
   "source": [
    "len(winning_set)"
   ]
  },
  {
   "cell_type": "code",
   "execution_count": 107,
   "id": "33f43752",
   "metadata": {},
   "outputs": [],
   "source": [
    "#receptions"
   ]
  },
  {
   "cell_type": "code",
   "execution_count": 108,
   "id": "b67da085",
   "metadata": {},
   "outputs": [],
   "source": [
    "# Making this dictionary into a dataframe\n",
    "\n",
    "receptions_new = {}\n",
    "\n",
    "for key, value in receptions.items():\n",
    "    match_id, set_number = key\n",
    "    receptions_new.setdefault('match_id', []).append(match_id)\n",
    "    receptions_new.setdefault('set_number', []).append(set_number)\n",
    "    receptions_new.setdefault('recep_percentage', []).append(value)"
   ]
  },
  {
   "cell_type": "code",
   "execution_count": 109,
   "id": "248f2de3",
   "metadata": {},
   "outputs": [
    {
     "data": {
      "text/html": [
       "<div>\n",
       "<style scoped>\n",
       "    .dataframe tbody tr th:only-of-type {\n",
       "        vertical-align: middle;\n",
       "    }\n",
       "\n",
       "    .dataframe tbody tr th {\n",
       "        vertical-align: top;\n",
       "    }\n",
       "\n",
       "    .dataframe thead th {\n",
       "        text-align: right;\n",
       "    }\n",
       "</style>\n",
       "<table border=\"1\" class=\"dataframe\">\n",
       "  <thead>\n",
       "    <tr style=\"text-align: right;\">\n",
       "      <th></th>\n",
       "      <th>match_id</th>\n",
       "      <th>set_number</th>\n",
       "      <th>recep_percentage</th>\n",
       "    </tr>\n",
       "  </thead>\n",
       "  <tbody>\n",
       "    <tr>\n",
       "      <th>0</th>\n",
       "      <td>24fe712b9d553f6a88347598f84a2616</td>\n",
       "      <td>1</td>\n",
       "      <td>0.207921</td>\n",
       "    </tr>\n",
       "    <tr>\n",
       "      <th>1</th>\n",
       "      <td>24fe712b9d553f6a88347598f84a2616</td>\n",
       "      <td>2</td>\n",
       "      <td>0.250000</td>\n",
       "    </tr>\n",
       "    <tr>\n",
       "      <th>2</th>\n",
       "      <td>24fe712b9d553f6a88347598f84a2616</td>\n",
       "      <td>3</td>\n",
       "      <td>0.215190</td>\n",
       "    </tr>\n",
       "    <tr>\n",
       "      <th>3</th>\n",
       "      <td>24fe712b9d553f6a88347598f84a2616</td>\n",
       "      <td>4</td>\n",
       "      <td>0.207921</td>\n",
       "    </tr>\n",
       "    <tr>\n",
       "      <th>4</th>\n",
       "      <td>24fe712b9d553f6a88347598f84a2616</td>\n",
       "      <td>5</td>\n",
       "      <td>NaN</td>\n",
       "    </tr>\n",
       "    <tr>\n",
       "      <th>...</th>\n",
       "      <td>...</td>\n",
       "      <td>...</td>\n",
       "      <td>...</td>\n",
       "    </tr>\n",
       "    <tr>\n",
       "      <th>760</th>\n",
       "      <td>e49e03d1200e03589a0c88360b474504</td>\n",
       "      <td>1</td>\n",
       "      <td>0.192771</td>\n",
       "    </tr>\n",
       "    <tr>\n",
       "      <th>761</th>\n",
       "      <td>e49e03d1200e03589a0c88360b474504</td>\n",
       "      <td>2</td>\n",
       "      <td>0.198113</td>\n",
       "    </tr>\n",
       "    <tr>\n",
       "      <th>762</th>\n",
       "      <td>e49e03d1200e03589a0c88360b474504</td>\n",
       "      <td>3</td>\n",
       "      <td>0.269231</td>\n",
       "    </tr>\n",
       "    <tr>\n",
       "      <th>763</th>\n",
       "      <td>e49e03d1200e03589a0c88360b474504</td>\n",
       "      <td>4</td>\n",
       "      <td>0.192308</td>\n",
       "    </tr>\n",
       "    <tr>\n",
       "      <th>764</th>\n",
       "      <td>e49e03d1200e03589a0c88360b474504</td>\n",
       "      <td>5</td>\n",
       "      <td>NaN</td>\n",
       "    </tr>\n",
       "  </tbody>\n",
       "</table>\n",
       "<p>765 rows × 3 columns</p>\n",
       "</div>"
      ],
      "text/plain": [
       "                             match_id  set_number  recep_percentage\n",
       "0    24fe712b9d553f6a88347598f84a2616           1          0.207921\n",
       "1    24fe712b9d553f6a88347598f84a2616           2          0.250000\n",
       "2    24fe712b9d553f6a88347598f84a2616           3          0.215190\n",
       "3    24fe712b9d553f6a88347598f84a2616           4          0.207921\n",
       "4    24fe712b9d553f6a88347598f84a2616           5               NaN\n",
       "..                                ...         ...               ...\n",
       "760  e49e03d1200e03589a0c88360b474504           1          0.192771\n",
       "761  e49e03d1200e03589a0c88360b474504           2          0.198113\n",
       "762  e49e03d1200e03589a0c88360b474504           3          0.269231\n",
       "763  e49e03d1200e03589a0c88360b474504           4          0.192308\n",
       "764  e49e03d1200e03589a0c88360b474504           5               NaN\n",
       "\n",
       "[765 rows x 3 columns]"
      ]
     },
     "execution_count": 109,
     "metadata": {},
     "output_type": "execute_result"
    }
   ],
   "source": [
    "receps_df = pd.DataFrame.from_dict(receptions_new)\n",
    "receps_df"
   ]
  },
  {
   "cell_type": "code",
   "execution_count": 110,
   "id": "d3dff7b0",
   "metadata": {},
   "outputs": [
    {
     "data": {
      "text/plain": [
       "765"
      ]
     },
     "execution_count": 110,
     "metadata": {},
     "output_type": "execute_result"
    }
   ],
   "source": [
    "len(receptions)"
   ]
  },
  {
   "cell_type": "markdown",
   "id": "85ef816f",
   "metadata": {},
   "source": [
    "Hypothesis 2: More contact with the ball by OH are associated with a lower kill % (fewer terminal contacts per set or match)\n",
    "\n",
    "independent variable: # of receptions and attacks\n",
    "dependent variable: kill percentage by OH\n",
    "\n",
    "kill percentage = # / all other codes\n",
    "\n",
    "Make a csv of percent of reception and attacks by OH for every set, a kill percentage by OH for every set, and label each set with each match, set outcome, and match outcome."
   ]
  },
  {
   "cell_type": "code",
   "execution_count": null,
   "id": "4944c2a2",
   "metadata": {},
   "outputs": [],
   "source": [
    "receptions_attacks = {}\n",
    "\n",
    "\n",
    "\n",
    "\n",
    "for match in all_matches['match_id'].unique():\n",
    "    \n",
    "    match_df = all_matches[all_matches['match_id'] == match]\n",
    "    \n",
    "    OH_df = match_df[match_df['player_position'] == 'OH']\n",
    "    \n",
    "    for set_num in range(1, 6):\n",
    "    \n",
    "        set_df = OH_df[OH_df['set_number'] == set_num]\n",
    "    \n",
    "        percentage = set_df.loc[set_df['skill'] == 'Reception', 'skill'].count() +  set_df.loc[set_df['skill'] == 'Attack', 'skill'].count()  / len(set_df)\n",
    "        \n",
    "     \n",
    "    \n",
    "        receptions_attacks[(match, set_num)] = percentage\n",
    "        \n",
    "     "
   ]
  },
  {
   "cell_type": "code",
   "execution_count": null,
   "id": "ce855bb2",
   "metadata": {},
   "outputs": [],
   "source": [
    "#receptions_attacks"
   ]
  },
  {
   "cell_type": "code",
   "execution_count": null,
   "id": "917e456d",
   "metadata": {},
   "outputs": [],
   "source": [
    "len(receptions_attacks)"
   ]
  },
  {
   "cell_type": "code",
   "execution_count": null,
   "id": "08bc5bbf",
   "metadata": {},
   "outputs": [],
   "source": [
    "# Making this dictionary into a dataframe\n",
    "\n",
    "receptions_attacks_new = {}\n",
    "\n",
    "for key, value in receptions_attacks.items():\n",
    "    match_id, set_number = key\n",
    "    receptions_attacks_new.setdefault('match_id', []).append(match_id)\n",
    "    receptions_attacks_new.setdefault('set_number', []).append(set_number)\n",
    "    receptions_attacks_new.setdefault('recep_attack_percentage', []).append(value)\n",
    "    \n",
    "    "
   ]
  },
  {
   "cell_type": "code",
   "execution_count": null,
   "id": "c63cd643",
   "metadata": {},
   "outputs": [],
   "source": [
    "receps_attack_df = pd.DataFrame.from_dict(receptions_attacks_new)\n",
    "receps_attack_df"
   ]
  },
  {
   "cell_type": "code",
   "execution_count": null,
   "id": "ff4c8203",
   "metadata": {},
   "outputs": [],
   "source": [
    "kill_percent = {}\n",
    "\n",
    "\n",
    "\n",
    "\n",
    "for match in all_matches['match_id'].unique():\n",
    "    \n",
    "    match_df = all_matches[all_matches['match_id'] == match]\n",
    "    \n",
    "    OH_df = match_df[match_df['player_position'] == 'OH']\n",
    "    \n",
    "    for set_num in range(1, 6):\n",
    "    \n",
    "        set_df = OH_df[OH_df['set_number'] == set_num]\n",
    "    \n",
    "        percentage = set_df.loc[set_df['evaluation_code'] == '#', 'evaluation_code'].count()  / len(set_df)\n",
    "        \n",
    "     \n",
    "    \n",
    "        kill_percent[(match, set_num)] = percentage\n",
    "        "
   ]
  },
  {
   "cell_type": "code",
   "execution_count": null,
   "id": "143b234f",
   "metadata": {},
   "outputs": [],
   "source": [
    "#kill_percent"
   ]
  },
  {
   "cell_type": "code",
   "execution_count": null,
   "id": "cc07bb89",
   "metadata": {},
   "outputs": [],
   "source": [
    "match_1 = all_matches[all_matches['match_id'] == '24fe712b9d553f6a88347598f84a2616']\n",
    "\n",
    "OH_1 = match_1[match_1['player_position'] == 'OH']\n",
    "\n",
    "set_1 = OH_1[OH_1['set_number'] == 1]\n",
    "\n",
    "\n",
    "#set_1\n",
    "\n",
    "set_1.loc[set_1['evaluation_code'] == '#', 'evaluation_code'].count()\n"
   ]
  },
  {
   "cell_type": "code",
   "execution_count": null,
   "id": "615b1a08",
   "metadata": {},
   "outputs": [],
   "source": [
    "len(set_1)"
   ]
  },
  {
   "cell_type": "code",
   "execution_count": null,
   "id": "de583d56",
   "metadata": {},
   "outputs": [],
   "source": [
    "18/101"
   ]
  },
  {
   "cell_type": "code",
   "execution_count": null,
   "id": "9809bd75",
   "metadata": {},
   "outputs": [],
   "source": [
    "len(kill_percent)"
   ]
  },
  {
   "cell_type": "code",
   "execution_count": null,
   "id": "f3780d09",
   "metadata": {},
   "outputs": [],
   "source": [
    "# Making this dictionary into a dataframe\n",
    "\n",
    "kill_percent_new = {}\n",
    "\n",
    "for key, value in kill_percent.items():\n",
    "    match_id, set_number = key\n",
    "    kill_percent_new.setdefault('match_id', []).append(match_id)\n",
    "    kill_percent_new.setdefault('set_number', []).append(set_number)\n",
    "    kill_percent_new.setdefault('kill_percentage', []).append(value)\n",
    "    \n",
    "    \n",
    "    \n",
    "    "
   ]
  },
  {
   "cell_type": "code",
   "execution_count": null,
   "id": "df9adaa5",
   "metadata": {},
   "outputs": [],
   "source": [
    "#kill_percent_new"
   ]
  },
  {
   "cell_type": "code",
   "execution_count": null,
   "id": "4df0abde",
   "metadata": {},
   "outputs": [],
   "source": [
    "kill_percent1 = pd.DataFrame.from_dict(kill_percent_new)\n",
    "kill_percent1"
   ]
  },
  {
   "cell_type": "code",
   "execution_count": null,
   "id": "568d626e",
   "metadata": {},
   "outputs": [],
   "source": [
    "receps_df"
   ]
  },
  {
   "cell_type": "code",
   "execution_count": null,
   "id": "45dc8138",
   "metadata": {},
   "outputs": [],
   "source": [
    "receps_attack_df"
   ]
  },
  {
   "cell_type": "code",
   "execution_count": null,
   "id": "7fd479ed",
   "metadata": {},
   "outputs": [],
   "source": [
    "receps_df['kill_percentage'] = kill_percent1['kill_percentage']\n",
    "\n",
    "receps_df['recep_attack_perc'] = receps_attack_df['recep_attack_percentage']"
   ]
  },
  {
   "cell_type": "code",
   "execution_count": null,
   "id": "d711e802",
   "metadata": {},
   "outputs": [],
   "source": [
    "receps_df"
   ]
  },
  {
   "cell_type": "code",
   "execution_count": null,
   "id": "7f309307",
   "metadata": {},
   "outputs": [],
   "source": [
    "receps_df.to_csv('vball_df2', index=True, sep='\\t')"
   ]
  },
  {
   "cell_type": "code",
   "execution_count": null,
   "id": "82485fbb",
   "metadata": {},
   "outputs": [],
   "source": [
    "# Need receptions and attacks to be a count- not a percentage\n",
    "\n",
    "receps_attack_count = {}\n",
    "\n",
    "\n",
    "\n",
    "\n",
    "for match in all_matches['match_id'].unique():\n",
    "    \n",
    "    match_df = all_matches[all_matches['match_id'] == match]\n",
    "    \n",
    "    OH_df = match_df[match_df['player_position'] == 'OH']\n",
    "    \n",
    "    for set_num in range(1, 6):\n",
    "    \n",
    "        set_df = OH_df[OH_df['set_number'] == set_num]\n",
    "    \n",
    "        count = set_df.loc[set_df['skill'] == 'Reception', 'skill'].count() +  set_df.loc[set_df['skill'] == 'Attack', 'skill'].count()\n",
    "        \n",
    "     \n",
    "    \n",
    "        receps_attack_count[(match, set_num)] = count"
   ]
  },
  {
   "cell_type": "code",
   "execution_count": null,
   "id": "aebc9aba",
   "metadata": {},
   "outputs": [],
   "source": [
    "#receps_attack_count"
   ]
  },
  {
   "cell_type": "code",
   "execution_count": null,
   "id": "022b8deb",
   "metadata": {},
   "outputs": [],
   "source": [
    "# Making this dictionary into a dataframe\n",
    "\n",
    "receps_attack_new = {}\n",
    "\n",
    "for key, value in receps_attack_count.items():\n",
    "    match_id, set_number = key\n",
    "    receps_attack_new.setdefault('match_id', []).append(match_id)\n",
    "    receps_attack_new.setdefault('set_number', []).append(set_number)\n",
    "    receps_attack_new.setdefault('recep_attack_count', []).append(value)\n",
    "    \n",
    "    "
   ]
  },
  {
   "cell_type": "code",
   "execution_count": null,
   "id": "0075d2aa",
   "metadata": {},
   "outputs": [],
   "source": [
    "receps_attack_count = pd.DataFrame.from_dict(receps_attack_new)\n",
    "receps_attack_count"
   ]
  },
  {
   "cell_type": "code",
   "execution_count": null,
   "id": "9d84e458",
   "metadata": {},
   "outputs": [],
   "source": [
    "receps_df"
   ]
  },
  {
   "cell_type": "code",
   "execution_count": null,
   "id": "f0d3d7a6",
   "metadata": {},
   "outputs": [],
   "source": [
    "receps_df['recep_attack_count'] = receps_attack_count['recep_attack_count']"
   ]
  },
  {
   "cell_type": "code",
   "execution_count": null,
   "id": "3efe6e98",
   "metadata": {},
   "outputs": [],
   "source": [
    "receps_df"
   ]
  },
  {
   "cell_type": "code",
   "execution_count": null,
   "id": "c49e8cd9",
   "metadata": {},
   "outputs": [],
   "source": [
    "receps_df.to_csv('vball_df3', index=True, sep='\\t')"
   ]
  },
  {
   "cell_type": "markdown",
   "id": "aec086d7",
   "metadata": {},
   "source": [
    "For research question number 3, we want the number of receptions and attacks by OH in proportion to their teams receptions and attacks."
   ]
  },
  {
   "cell_type": "markdown",
   "id": "c466e7e8",
   "metadata": {},
   "source": [
    "need to find the number of receptions and attacks by OH / number of reception and attacks by whole team"
   ]
  },
  {
   "cell_type": "code",
   "execution_count": null,
   "id": "79aba9b4",
   "metadata": {},
   "outputs": [],
   "source": [
    "teams_list2"
   ]
  },
  {
   "cell_type": "code",
   "execution_count": null,
   "id": "5c15f9dc",
   "metadata": {},
   "outputs": [],
   "source": [
    "receps3 = {}\n",
    "\n",
    "\n",
    "for team in teams_list2:\n",
    "    \n",
    "    team_df = all_matches[all_matches['team'] == team]\n",
    "    \n",
    "    for match in team_df['match_id'].unique():\n",
    "        \n",
    "        match_df = team_df[team_df['match_id'] == match]\n",
    "        \n",
    "        for set_num in match_df['set_number'].unique():\n",
    "            \n",
    "            set_df = match_df[match_df['set_number'] == set_num]\n",
    "            \n",
    "            OH_df = set_df[set_df['player_position'] == 'OH']\n",
    "            \n",
    "            oh_rec =  OH_df['skill'].eq('Reception').sum()\n",
    "            \n",
    "            tot = set_df['skill'].eq('Reception').sum()\n",
    "            \n",
    "            percent = oh_rec / tot\n",
    "            \n",
    "            set_val = set_df.iloc[0]['won_set']\n",
    "            match_val = set_df.iloc[0]['won_match']\n",
    "            \n",
    "            \n",
    "            receps3[(team, match, set_num, set_val, match_val)] = percent\n",
    "        \n",
    "        "
   ]
  },
  {
   "cell_type": "code",
   "execution_count": null,
   "id": "d0f81010",
   "metadata": {},
   "outputs": [],
   "source": [
    "#receps3"
   ]
  },
  {
   "cell_type": "code",
   "execution_count": null,
   "id": "03ea9007",
   "metadata": {},
   "outputs": [],
   "source": [
    "receps4 = {}\n",
    "\n",
    "for key, value in receps3.items():\n",
    "    team, match_id, set_number, set_val, match_val = key\n",
    "    receps4.setdefault('team', []).append(team)\n",
    "    receps4.setdefault('match_id', []).append(match_id)\n",
    "    receps4.setdefault('set_number', []).append(set_number)\n",
    "    receps4.setdefault('won_set', []).append(set_val)\n",
    "    receps4.setdefault('won_match', []).append(match_val)\n",
    "    receps4.setdefault('recep_percent_OH', []).append(value)"
   ]
  },
  {
   "cell_type": "code",
   "execution_count": null,
   "id": "0806952f",
   "metadata": {},
   "outputs": [],
   "source": [
    "receps_df4 = pd.DataFrame.from_dict(receps4)\n",
    "receps_df4"
   ]
  },
  {
   "cell_type": "code",
   "execution_count": null,
   "id": "2d4bc09d",
   "metadata": {},
   "outputs": [],
   "source": [
    "receps_df4.to_csv('recept_perc_OH', index=True, sep='\\t')"
   ]
  },
  {
   "cell_type": "code",
   "execution_count": null,
   "id": "625e3fa4",
   "metadata": {},
   "outputs": [],
   "source": [
    "OH_proportions = {}\n",
    "\n",
    "for key, val in outside_hitters3.items():\n",
    "    \n",
    "    \n",
    "    team = all_matches.loc[all_matches['player_name'] == key, 'team'].values[0]\n",
    "    \n",
    "    team_df = all_matches[all_matches['team'] == team]\n",
    "    \n",
    "    team_count1 = team_df['skill'].value_counts()['Attack']\n",
    "    \n",
    "    team_count2 = team_df['skill'].value_counts()['Reception']\n",
    "    \n",
    "    team_count = team_count1 + team_count2\n",
    "    \n",
    "    player_df = all_matches[all_matches['player_name'] == key]\n",
    "    \n",
    "    player_count1 = player_df['skill'].value_counts()['Attack']\n",
    "    \n",
    "    player_count2 = player_df['skill'].eq('Reception').sum()\n",
    "                                                      \n",
    "    player_count = player_count1 + player_count2\n",
    "    \n",
    "    proportion = player_count / team_count\n",
    "    \n",
    "    OH_proportions[(key, team)] = proportion\n",
    "    \n",
    "    \n",
    "    \n",
    "    "
   ]
  },
  {
   "cell_type": "code",
   "execution_count": null,
   "id": "be119c9f",
   "metadata": {},
   "outputs": [],
   "source": [
    "#OH_proportions"
   ]
  },
  {
   "cell_type": "code",
   "execution_count": null,
   "id": "67aa7f99",
   "metadata": {},
   "outputs": [],
   "source": [
    "len(OH_proportions)"
   ]
  },
  {
   "cell_type": "code",
   "execution_count": null,
   "id": "89d53080",
   "metadata": {},
   "outputs": [],
   "source": [
    "OH_prop = {}\n",
    "\n",
    "for key, value in OH_proportions.items():\n",
    "    player_name, team = key\n",
    "    OH_prop.setdefault('player_name', []).append(player_name)\n",
    "    OH_prop.setdefault('team', []).append(team)\n",
    "    OH_prop.setdefault('OH_proportion', []).append(value)"
   ]
  },
  {
   "cell_type": "code",
   "execution_count": null,
   "id": "12cecb41",
   "metadata": {},
   "outputs": [],
   "source": [
    "#OH_prop"
   ]
  },
  {
   "cell_type": "code",
   "execution_count": null,
   "id": "5eeef066",
   "metadata": {},
   "outputs": [],
   "source": [
    "OH_prop_df = pd.DataFrame.from_dict(OH_prop)"
   ]
  },
  {
   "cell_type": "code",
   "execution_count": null,
   "id": "df3ba2c1",
   "metadata": {
    "scrolled": true
   },
   "outputs": [],
   "source": [
    "#OH_prop_df"
   ]
  },
  {
   "cell_type": "code",
   "execution_count": null,
   "id": "d672edcd",
   "metadata": {},
   "outputs": [],
   "source": [
    "filtered_OH_prop = OH_prop_df[OH_prop_df['team'].isin(teams_list2)]"
   ]
  },
  {
   "cell_type": "code",
   "execution_count": null,
   "id": "f3f2c6cb",
   "metadata": {},
   "outputs": [],
   "source": [
    "#filtered_OH_prop"
   ]
  },
  {
   "cell_type": "code",
   "execution_count": null,
   "id": "ed77dd72",
   "metadata": {},
   "outputs": [],
   "source": [
    "filtered_OH_prop.to_csv('OH_proportion2', index=True, sep='\\t')"
   ]
  },
  {
   "cell_type": "code",
   "execution_count": null,
   "id": "b7b0b9c2",
   "metadata": {},
   "outputs": [],
   "source": [
    "receptions_attacks2 = {}\n",
    "receptions_attacks3 = {}\n",
    "\n",
    "\n",
    "\n",
    "for match in all_matches['match_id'].unique():\n",
    "    \n",
    "    match_df = all_matches[all_matches['match_id'] == match]\n",
    "    \n",
    "    OH_df = match_df[match_df['player_position'] == 'OH']\n",
    "    \n",
    "    \n",
    "    for set_num in range(1, 6):\n",
    "    \n",
    "        setOH_df = OH_df[OH_df['set_number'] == set_num]\n",
    "        \n",
    "        set_df = match_df[match_df['set_number'] == set_num]\n",
    "    \n",
    "        percentage_recep = setOH_df.loc[setOH_df['skill'] == 'Reception', 'skill'].count()  / len(set_df)\n",
    "        percentage_attack = setOH_df.loc[setOH_df['skill'] == 'Attack', 'skill'].count() / len(set_df)\n",
    "     \n",
    "    \n",
    "        receptions_attacks2[(match, set_num)] = percentage_recep\n",
    "        \n",
    "        \n",
    "        receptions_attacks3[(match, set_num)] = percentage_attack\n",
    "        \n",
    "     "
   ]
  },
  {
   "cell_type": "code",
   "execution_count": null,
   "id": "d009305b",
   "metadata": {},
   "outputs": [],
   "source": [
    "#receptions_attacks2"
   ]
  },
  {
   "cell_type": "code",
   "execution_count": null,
   "id": "ba9107ba",
   "metadata": {},
   "outputs": [],
   "source": [
    "#receptions_attacks3"
   ]
  },
  {
   "cell_type": "code",
   "execution_count": null,
   "id": "542a8237",
   "metadata": {},
   "outputs": [],
   "source": [
    "receptions_attacks2 = {}\n",
    "receptions_attacks3 = {}\n",
    "\n",
    "\n",
    "\n",
    "for match in all_matches['match_id'].unique():\n",
    "    \n",
    "    match_df = all_matches[all_matches['match_id'] == match]\n",
    "    \n",
    "    OH_df = match_df[match_df['player_position'] == 'OH']\n",
    "    \n",
    "    \n",
    "    for set_num in range(1, 6):\n",
    "    \n",
    "        setOH_df = OH_df[OH_df['set_number'] == set_num]\n",
    "        \n",
    "        set_df = match_df[match_df['set_number'] == set_num]\n",
    "    \n",
    "        percentage_recep = setOH_df.loc[setOH_df['skill'] == 'Reception', 'skill'].count()  / len(set_df)\n",
    "        percentage_attack = setOH_df.loc[setOH_df['skill'] == 'Attack', 'skill'].count() / len(set_df)\n",
    "     \n",
    "    \n",
    "        receptions_attacks2[(match, set_num)] = percentage_recep\n",
    "        \n",
    "        \n",
    "        receptions_attacks3[(match, set_num)] = percentage_attack"
   ]
  },
  {
   "cell_type": "code",
   "execution_count": null,
   "id": "90e21f6d",
   "metadata": {},
   "outputs": [],
   "source": [
    "oh_receps4 = {}\n",
    "oh_attack4 = {}\n",
    "\n",
    "for hitter in Outside_Hitters:\n",
    "    \n",
    "    hitter_df = all_matches[all_matches['player_name'] == hitter]\n",
    "    \n",
    "    percentage_recep = hitter_df.loc[hitter_df['skill'] == 'Reception', 'skill'].count()  / len(hitter_df)\n",
    "    \n",
    "    percentage_attack = hitter_df.loc[hitter_df['skill'] == 'Attack', 'skill'].count() / len(hitter_df)\n",
    "    \n",
    "    row = hitter_df.loc[hitter_df['player_name'] == hitter]\n",
    "    \n",
    "    team = row['team'].values[0]\n",
    "        \n",
    "    oh_receps4[(hitter, team)] = percentage_recep\n",
    "    \n",
    "    oh_attack4[(hitter, team)] = percentage_attack\n",
    "        \n",
    "        \n",
    "        \n",
    "    "
   ]
  },
  {
   "cell_type": "code",
   "execution_count": null,
   "id": "767dea35",
   "metadata": {},
   "outputs": [],
   "source": [
    "#oh_receps4"
   ]
  },
  {
   "cell_type": "code",
   "execution_count": null,
   "id": "885d4323",
   "metadata": {},
   "outputs": [],
   "source": [
    "OH_recep5 = {}\n",
    "\n",
    "for key, value in oh_receps4.items():\n",
    "    player_name, team = key\n",
    "    OH_recep5.setdefault('player_name', []).append(player_name)\n",
    "    OH_recep5.setdefault('team', []).append(team)\n",
    "    OH_recep5.setdefault('OH_receps', []).append(value)"
   ]
  },
  {
   "cell_type": "code",
   "execution_count": null,
   "id": "51ed4895",
   "metadata": {},
   "outputs": [],
   "source": [
    "OH_attack5 = {}\n",
    "\n",
    "for key, value in oh_attack4.items():\n",
    "    player_name, team = key\n",
    "    OH_attack5.setdefault('player_name', []).append(player_name)\n",
    "    OH_attack5.setdefault('team', []).append(team)\n",
    "    OH_attack5.setdefault('OH_attacks', []).append(value)"
   ]
  },
  {
   "cell_type": "code",
   "execution_count": null,
   "id": "bc993852",
   "metadata": {},
   "outputs": [],
   "source": [
    "oh_receps5 = pd.DataFrame.from_dict(OH_recep5)"
   ]
  },
  {
   "cell_type": "code",
   "execution_count": null,
   "id": "35d47c88",
   "metadata": {},
   "outputs": [],
   "source": [
    "oh_attacks5 = pd.DataFrame.from_dict(OH_attack5)"
   ]
  },
  {
   "cell_type": "code",
   "execution_count": null,
   "id": "1c9ce32f",
   "metadata": {},
   "outputs": [],
   "source": [
    "#oh_attacks5"
   ]
  },
  {
   "cell_type": "code",
   "execution_count": null,
   "id": "bdb586b9",
   "metadata": {},
   "outputs": [],
   "source": [
    "#oh_receps5"
   ]
  },
  {
   "cell_type": "code",
   "execution_count": null,
   "id": "2ba172a3",
   "metadata": {},
   "outputs": [],
   "source": [
    "col4 = oh_attacks5['OH_attacks']"
   ]
  },
  {
   "cell_type": "code",
   "execution_count": null,
   "id": "1430f346",
   "metadata": {},
   "outputs": [],
   "source": [
    "merged_df = pd.concat([oh_receps5, col4], axis=1)"
   ]
  },
  {
   "cell_type": "code",
   "execution_count": null,
   "id": "d8486d1e",
   "metadata": {},
   "outputs": [],
   "source": [
    "#merged_df"
   ]
  },
  {
   "cell_type": "code",
   "execution_count": null,
   "id": "ca814507",
   "metadata": {},
   "outputs": [],
   "source": [
    "merged_df.to_csv('oh_perc', index=True, sep='\\t')"
   ]
  },
  {
   "cell_type": "code",
   "execution_count": 115,
   "id": "5e2cfe8e",
   "metadata": {},
   "outputs": [
    {
     "data": {
      "text/plain": [
       "array([nan, '!', '#', '-', '/', '+', '='], dtype=object)"
      ]
     },
     "execution_count": 115,
     "metadata": {},
     "output_type": "execute_result"
    }
   ],
   "source": [
    "all_matches['evaluation_code'].unique()"
   ]
  },
  {
   "cell_type": "code",
   "execution_count": null,
   "id": "c2cd1ff3",
   "metadata": {},
   "outputs": [],
   "source": []
  }
 ],
 "metadata": {
  "kernelspec": {
   "display_name": "Python 3",
   "language": "python",
   "name": "python3"
  },
  "language_info": {
   "codemirror_mode": {
    "name": "ipython",
    "version": 3
   },
   "file_extension": ".py",
   "mimetype": "text/x-python",
   "name": "python",
   "nbconvert_exporter": "python",
   "pygments_lexer": "ipython3",
   "version": "3.8.8"
  }
 },
 "nbformat": 4,
 "nbformat_minor": 5
}
